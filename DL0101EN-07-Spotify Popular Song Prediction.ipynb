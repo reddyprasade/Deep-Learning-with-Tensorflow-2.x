{
 "cells": [
  {
   "cell_type": "code",
   "execution_count": 8,
   "metadata": {},
   "outputs": [],
   "source": [
    "# Setup plotting\n",
    "import matplotlib.pyplot as plt\n",
    "plt.style.use('seaborn-whitegrid')\n",
    "\n",
    "# Set Matplotlib defaults\n",
    "plt.rc('figure', autolayout=True)\n",
    "plt.rc('axes', labelweight='bold', labelsize='large',\n",
    "       titleweight='bold', titlesize=18, titlepad=10)\n",
    "plt.rc('animation', html='html5')"
   ]
  },
  {
   "cell_type": "code",
   "execution_count": 9,
   "metadata": {},
   "outputs": [],
   "source": [
    "import pandas as pd\n",
    "from sklearn.preprocessing import StandardScaler, OneHotEncoder\n",
    "from sklearn.compose import make_column_transformer\n",
    "from sklearn.model_selection import GroupShuffleSplit\n",
    "\n",
    "from tensorflow import keras\n",
    "from tensorflow.keras import layers\n",
    "from tensorflow.keras import callbacks"
   ]
  },
  {
   "cell_type": "markdown",
   "metadata": {},
   "source": [
    "**Problem Stastement:** We have Predict Which is the Popular Song in Spotify Data Set, how to improve training outcomes by including an early stopping callback to prevent overfitting."
   ]
  },
  {
   "cell_type": "code",
   "execution_count": 10,
   "metadata": {
    "collapsed": true,
    "jupyter": {
     "outputs_hidden": true
    }
   },
   "outputs": [
    {
     "data": {
      "text/html": [
       "<div>\n",
       "<style scoped>\n",
       "    .dataframe tbody tr th:only-of-type {\n",
       "        vertical-align: middle;\n",
       "    }\n",
       "\n",
       "    .dataframe tbody tr th {\n",
       "        vertical-align: top;\n",
       "    }\n",
       "\n",
       "    .dataframe thead th {\n",
       "        text-align: right;\n",
       "    }\n",
       "</style>\n",
       "<table border=\"1\" class=\"dataframe\">\n",
       "  <thead>\n",
       "    <tr style=\"text-align: right;\">\n",
       "      <th></th>\n",
       "      <th>track_id</th>\n",
       "      <th>track_name</th>\n",
       "      <th>track_artist</th>\n",
       "      <th>track_popularity</th>\n",
       "      <th>track_album_id</th>\n",
       "      <th>track_album_name</th>\n",
       "      <th>track_album_release_date</th>\n",
       "      <th>playlist_name</th>\n",
       "      <th>playlist_id</th>\n",
       "      <th>playlist_genre</th>\n",
       "      <th>...</th>\n",
       "      <th>key</th>\n",
       "      <th>loudness</th>\n",
       "      <th>mode</th>\n",
       "      <th>speechiness</th>\n",
       "      <th>acousticness</th>\n",
       "      <th>instrumentalness</th>\n",
       "      <th>liveness</th>\n",
       "      <th>valence</th>\n",
       "      <th>tempo</th>\n",
       "      <th>duration_ms</th>\n",
       "    </tr>\n",
       "  </thead>\n",
       "  <tbody>\n",
       "    <tr>\n",
       "      <th>0</th>\n",
       "      <td>6f807x0ima9a1j3VPbc7VN</td>\n",
       "      <td>I Don't Care (with Justin Bieber) - Loud Luxur...</td>\n",
       "      <td>Ed Sheeran</td>\n",
       "      <td>66</td>\n",
       "      <td>2oCs0DGTsRO98Gh5ZSl2Cx</td>\n",
       "      <td>I Don't Care (with Justin Bieber) [Loud Luxury...</td>\n",
       "      <td>2019-06-14</td>\n",
       "      <td>Pop Remix</td>\n",
       "      <td>37i9dQZF1DXcZDD7cfEKhW</td>\n",
       "      <td>pop</td>\n",
       "      <td>...</td>\n",
       "      <td>6</td>\n",
       "      <td>-2.634</td>\n",
       "      <td>1</td>\n",
       "      <td>0.0583</td>\n",
       "      <td>0.1020</td>\n",
       "      <td>0.000000</td>\n",
       "      <td>0.0653</td>\n",
       "      <td>0.518</td>\n",
       "      <td>122.036</td>\n",
       "      <td>194754</td>\n",
       "    </tr>\n",
       "    <tr>\n",
       "      <th>1</th>\n",
       "      <td>0r7CVbZTWZgbTCYdfa2P31</td>\n",
       "      <td>Memories - Dillon Francis Remix</td>\n",
       "      <td>Maroon 5</td>\n",
       "      <td>67</td>\n",
       "      <td>63rPSO264uRjW1X5E6cWv6</td>\n",
       "      <td>Memories (Dillon Francis Remix)</td>\n",
       "      <td>2019-12-13</td>\n",
       "      <td>Pop Remix</td>\n",
       "      <td>37i9dQZF1DXcZDD7cfEKhW</td>\n",
       "      <td>pop</td>\n",
       "      <td>...</td>\n",
       "      <td>11</td>\n",
       "      <td>-4.969</td>\n",
       "      <td>1</td>\n",
       "      <td>0.0373</td>\n",
       "      <td>0.0724</td>\n",
       "      <td>0.004210</td>\n",
       "      <td>0.3570</td>\n",
       "      <td>0.693</td>\n",
       "      <td>99.972</td>\n",
       "      <td>162600</td>\n",
       "    </tr>\n",
       "    <tr>\n",
       "      <th>2</th>\n",
       "      <td>1z1Hg7Vb0AhHDiEmnDE79l</td>\n",
       "      <td>All the Time - Don Diablo Remix</td>\n",
       "      <td>Zara Larsson</td>\n",
       "      <td>70</td>\n",
       "      <td>1HoSmj2eLcsrR0vE9gThr4</td>\n",
       "      <td>All the Time (Don Diablo Remix)</td>\n",
       "      <td>2019-07-05</td>\n",
       "      <td>Pop Remix</td>\n",
       "      <td>37i9dQZF1DXcZDD7cfEKhW</td>\n",
       "      <td>pop</td>\n",
       "      <td>...</td>\n",
       "      <td>1</td>\n",
       "      <td>-3.432</td>\n",
       "      <td>0</td>\n",
       "      <td>0.0742</td>\n",
       "      <td>0.0794</td>\n",
       "      <td>0.000023</td>\n",
       "      <td>0.1100</td>\n",
       "      <td>0.613</td>\n",
       "      <td>124.008</td>\n",
       "      <td>176616</td>\n",
       "    </tr>\n",
       "    <tr>\n",
       "      <th>3</th>\n",
       "      <td>75FpbthrwQmzHlBJLuGdC7</td>\n",
       "      <td>Call You Mine - Keanu Silva Remix</td>\n",
       "      <td>The Chainsmokers</td>\n",
       "      <td>60</td>\n",
       "      <td>1nqYsOef1yKKuGOVchbsk6</td>\n",
       "      <td>Call You Mine - The Remixes</td>\n",
       "      <td>2019-07-19</td>\n",
       "      <td>Pop Remix</td>\n",
       "      <td>37i9dQZF1DXcZDD7cfEKhW</td>\n",
       "      <td>pop</td>\n",
       "      <td>...</td>\n",
       "      <td>7</td>\n",
       "      <td>-3.778</td>\n",
       "      <td>1</td>\n",
       "      <td>0.1020</td>\n",
       "      <td>0.0287</td>\n",
       "      <td>0.000009</td>\n",
       "      <td>0.2040</td>\n",
       "      <td>0.277</td>\n",
       "      <td>121.956</td>\n",
       "      <td>169093</td>\n",
       "    </tr>\n",
       "    <tr>\n",
       "      <th>4</th>\n",
       "      <td>1e8PAfcKUYoKkxPhrHqw4x</td>\n",
       "      <td>Someone You Loved - Future Humans Remix</td>\n",
       "      <td>Lewis Capaldi</td>\n",
       "      <td>69</td>\n",
       "      <td>7m7vv9wlQ4i0LFuJiE2zsQ</td>\n",
       "      <td>Someone You Loved (Future Humans Remix)</td>\n",
       "      <td>2019-03-05</td>\n",
       "      <td>Pop Remix</td>\n",
       "      <td>37i9dQZF1DXcZDD7cfEKhW</td>\n",
       "      <td>pop</td>\n",
       "      <td>...</td>\n",
       "      <td>1</td>\n",
       "      <td>-4.672</td>\n",
       "      <td>1</td>\n",
       "      <td>0.0359</td>\n",
       "      <td>0.0803</td>\n",
       "      <td>0.000000</td>\n",
       "      <td>0.0833</td>\n",
       "      <td>0.725</td>\n",
       "      <td>123.976</td>\n",
       "      <td>189052</td>\n",
       "    </tr>\n",
       "  </tbody>\n",
       "</table>\n",
       "<p>5 rows × 23 columns</p>\n",
       "</div>"
      ],
      "text/plain": [
       "                 track_id                                         track_name  \\\n",
       "0  6f807x0ima9a1j3VPbc7VN  I Don't Care (with Justin Bieber) - Loud Luxur...   \n",
       "1  0r7CVbZTWZgbTCYdfa2P31                    Memories - Dillon Francis Remix   \n",
       "2  1z1Hg7Vb0AhHDiEmnDE79l                    All the Time - Don Diablo Remix   \n",
       "3  75FpbthrwQmzHlBJLuGdC7                  Call You Mine - Keanu Silva Remix   \n",
       "4  1e8PAfcKUYoKkxPhrHqw4x            Someone You Loved - Future Humans Remix   \n",
       "\n",
       "       track_artist  track_popularity          track_album_id  \\\n",
       "0        Ed Sheeran                66  2oCs0DGTsRO98Gh5ZSl2Cx   \n",
       "1          Maroon 5                67  63rPSO264uRjW1X5E6cWv6   \n",
       "2      Zara Larsson                70  1HoSmj2eLcsrR0vE9gThr4   \n",
       "3  The Chainsmokers                60  1nqYsOef1yKKuGOVchbsk6   \n",
       "4     Lewis Capaldi                69  7m7vv9wlQ4i0LFuJiE2zsQ   \n",
       "\n",
       "                                    track_album_name track_album_release_date  \\\n",
       "0  I Don't Care (with Justin Bieber) [Loud Luxury...               2019-06-14   \n",
       "1                    Memories (Dillon Francis Remix)               2019-12-13   \n",
       "2                    All the Time (Don Diablo Remix)               2019-07-05   \n",
       "3                        Call You Mine - The Remixes               2019-07-19   \n",
       "4            Someone You Loved (Future Humans Remix)               2019-03-05   \n",
       "\n",
       "  playlist_name             playlist_id playlist_genre  ... key  loudness  \\\n",
       "0     Pop Remix  37i9dQZF1DXcZDD7cfEKhW            pop  ...   6    -2.634   \n",
       "1     Pop Remix  37i9dQZF1DXcZDD7cfEKhW            pop  ...  11    -4.969   \n",
       "2     Pop Remix  37i9dQZF1DXcZDD7cfEKhW            pop  ...   1    -3.432   \n",
       "3     Pop Remix  37i9dQZF1DXcZDD7cfEKhW            pop  ...   7    -3.778   \n",
       "4     Pop Remix  37i9dQZF1DXcZDD7cfEKhW            pop  ...   1    -4.672   \n",
       "\n",
       "   mode  speechiness  acousticness  instrumentalness  liveness  valence  \\\n",
       "0     1       0.0583        0.1020          0.000000    0.0653    0.518   \n",
       "1     1       0.0373        0.0724          0.004210    0.3570    0.693   \n",
       "2     0       0.0742        0.0794          0.000023    0.1100    0.613   \n",
       "3     1       0.1020        0.0287          0.000009    0.2040    0.277   \n",
       "4     1       0.0359        0.0803          0.000000    0.0833    0.725   \n",
       "\n",
       "     tempo  duration_ms  \n",
       "0  122.036       194754  \n",
       "1   99.972       162600  \n",
       "2  124.008       176616  \n",
       "3  121.956       169093  \n",
       "4  123.976       189052  \n",
       "\n",
       "[5 rows x 23 columns]"
      ]
     },
     "execution_count": 10,
     "metadata": {},
     "output_type": "execute_result"
    }
   ],
   "source": [
    "spotify = pd.read_csv('Data/spotify.csv')\n",
    "spotify.head()"
   ]
  },
  {
   "cell_type": "code",
   "execution_count": 11,
   "metadata": {},
   "outputs": [
    {
     "data": {
      "text/plain": [
       "100"
      ]
     },
     "execution_count": 11,
     "metadata": {},
     "output_type": "execute_result"
    }
   ],
   "source": [
    "import numpy as np\n",
    "np.max(spotify.track_popularity)"
   ]
  },
  {
   "cell_type": "code",
   "execution_count": 13,
   "metadata": {},
   "outputs": [],
   "source": [
    "X = spotify.copy().dropna() # Droping all Null Values\n",
    "y = X.pop('track_popularity')\n",
    "artists =X['track_artist']"
   ]
  },
  {
   "cell_type": "code",
   "execution_count": 14,
   "metadata": {},
   "outputs": [],
   "source": [
    "features_num = ['danceability', 'energy', 'key', 'loudness', 'mode',\n",
    "                'speechiness', 'acousticness', 'instrumentalness',\n",
    "                'liveness', 'valence', 'tempo', 'duration_ms']\n",
    "features_cat = ['playlist_genre']"
   ]
  },
  {
   "cell_type": "code",
   "execution_count": 15,
   "metadata": {},
   "outputs": [],
   "source": [
    "# Data Preprocessing From Scikit learn\n",
    "preprocessor = make_column_transformer(\n",
    "    (StandardScaler(), features_num),\n",
    "    (OneHotEncoder(), features_cat),\n",
    ")"
   ]
  },
  {
   "cell_type": "code",
   "execution_count": 16,
   "metadata": {},
   "outputs": [],
   "source": [
    "# We'll do a \"grouped\" split to keep all of an artist's songs in one\n",
    "# split or the other. This is to help prevent signal leakage."
   ]
  },
  {
   "cell_type": "code",
   "execution_count": 19,
   "metadata": {},
   "outputs": [],
   "source": [
    "def group_split(X,y, group, train_size=0.75):\n",
    "    splitter = GroupShuffleSplit(train_size=train_size)\n",
    "    train, test = next(splitter.split(X,y,groups= group))\n",
    "    return (X.iloc[train], X.iloc[test], y.iloc[train], y.iloc[test])"
   ]
  },
  {
   "cell_type": "code",
   "execution_count": 20,
   "metadata": {},
   "outputs": [],
   "source": [
    "X_train , X_valid ,y_train, y_valid = group_split(X,y,artists)"
   ]
  },
  {
   "cell_type": "code",
   "execution_count": 21,
   "metadata": {},
   "outputs": [],
   "source": [
    "X_train = preprocessor.fit_transform(X_train)"
   ]
  },
  {
   "cell_type": "code",
   "execution_count": 22,
   "metadata": {},
   "outputs": [],
   "source": [
    "X_valid = preprocessor.transform(X_valid)"
   ]
  },
  {
   "cell_type": "code",
   "execution_count": 23,
   "metadata": {},
   "outputs": [],
   "source": [
    "y_train = y_train / 100 # popularity is on a scale 0-100, so this rescales to 0-1.\n",
    "y_valid = y_valid / 100"
   ]
  },
  {
   "cell_type": "code",
   "execution_count": 24,
   "metadata": {},
   "outputs": [
    {
     "name": "stdout",
     "output_type": "stream",
     "text": [
      "Input shape: [18]\n"
     ]
    }
   ],
   "source": [
    "input_shape = [X_train.shape[1]]\n",
    "print(\"Input shape: {}\".format(input_shape))"
   ]
  },
  {
   "cell_type": "code",
   "execution_count": 25,
   "metadata": {},
   "outputs": [],
   "source": [
    "model = keras.Sequential([\n",
    "    layers.Dense(1, input_shape=input_shape),\n",
    "])"
   ]
  },
  {
   "cell_type": "code",
   "execution_count": 26,
   "metadata": {},
   "outputs": [],
   "source": [
    "model.compile(\n",
    "optimizer='adam',\n",
    "loss='mae')"
   ]
  },
  {
   "cell_type": "code",
   "execution_count": 28,
   "metadata": {},
   "outputs": [],
   "source": [
    "history  = model.fit(X_train, y_train,\n",
    "    validation_data=(X_valid, y_valid),\n",
    "    batch_size=512,\n",
    "    epochs=50,\n",
    "    verbose=0)"
   ]
  },
  {
   "cell_type": "code",
   "execution_count": 29,
   "metadata": {},
   "outputs": [
    {
     "name": "stdout",
     "output_type": "stream",
     "text": [
      "Minimum Validation Loss: 0.1964\n"
     ]
    },
    {
     "data": {
      "image/png": "[encoded data removed]",
      "text/plain": [
       "<Figure size 432x288 with 1 Axes>"
      ]
     },
     "metadata": {},
     "output_type": "display_data"
    }
   ],
   "source": [
    "history_df = pd.DataFrame(history.history)\n",
    "history_df.loc[0:, ['loss', 'val_loss']].plot()\n",
    "print(\"Minimum Validation Loss: {:0.4f}\".format(history_df['val_loss'].min()));"
   ]
  },
  {
   "cell_type": "markdown",
   "metadata": {},
   "source": [
    "Now let's add some capacity to our network. We'll add a couple of hidden layers with 192 units in all. Run the next cell to train the network and see the learning curves."
   ]
  },
  {
   "cell_type": "code",
   "execution_count": 30,
   "metadata": {},
   "outputs": [],
   "source": [
    "model = keras.Sequential([\n",
    "    layers.Dense(128, activation='relu', input_shape=input_shape),\n",
    "    layers.Dense(64, activation='relu'),\n",
    "    layers.Dense(1)\n",
    "])"
   ]
  },
  {
   "cell_type": "code",
   "execution_count": 31,
   "metadata": {},
   "outputs": [],
   "source": [
    "model.compile(\n",
    "    optimizer='adam',\n",
    "    loss='mae',\n",
    ")"
   ]
  },
  {
   "cell_type": "code",
   "execution_count": 32,
   "metadata": {
    "collapsed": true,
    "jupyter": {
     "outputs_hidden": true
    }
   },
   "outputs": [
    {
     "name": "stdout",
     "output_type": "stream",
     "text": [
      "Epoch 1/50\n",
      "49/49 [==============================] - 0s 3ms/step - loss: 0.2697 - val_loss: 0.2099\n",
      "Epoch 2/50\n",
      "49/49 [==============================] - 0s 3ms/step - loss: 0.2039 - val_loss: 0.2026\n",
      "Epoch 3/50\n",
      "49/49 [==============================] - 0s 2ms/step - loss: 0.1986 - val_loss: 0.2016\n",
      "Epoch 4/50\n",
      "49/49 [==============================] - 0s 2ms/step - loss: 0.1959 - val_loss: 0.1997\n",
      "Epoch 5/50\n",
      "49/49 [==============================] - 0s 2ms/step - loss: 0.1932 - val_loss: 0.1976\n",
      "Epoch 6/50\n",
      "49/49 [==============================] - 0s 2ms/step - loss: 0.1912 - val_loss: 0.1978\n",
      "Epoch 7/50\n",
      "49/49 [==============================] - 0s 2ms/step - loss: 0.1901 - val_loss: 0.1982\n",
      "Epoch 8/50\n",
      "49/49 [==============================] - 0s 2ms/step - loss: 0.1885 - val_loss: 0.1983\n",
      "Epoch 9/50\n",
      "49/49 [==============================] - 0s 2ms/step - loss: 0.1872 - val_loss: 0.1981\n",
      "Epoch 10/50\n",
      "49/49 [==============================] - 0s 2ms/step - loss: 0.1865 - val_loss: 0.1974\n",
      "Epoch 11/50\n",
      "49/49 [==============================] - 0s 2ms/step - loss: 0.1857 - val_loss: 0.1969\n",
      "Epoch 12/50\n",
      "49/49 [==============================] - 0s 2ms/step - loss: 0.1852 - val_loss: 0.1976\n",
      "Epoch 13/50\n",
      "49/49 [==============================] - 0s 2ms/step - loss: 0.1845 - val_loss: 0.1968\n",
      "Epoch 14/50\n",
      "49/49 [==============================] - 0s 2ms/step - loss: 0.1830 - val_loss: 0.1970\n",
      "Epoch 15/50\n",
      "49/49 [==============================] - 0s 2ms/step - loss: 0.1832 - val_loss: 0.1964\n",
      "Epoch 16/50\n",
      "49/49 [==============================] - 0s 2ms/step - loss: 0.1816 - val_loss: 0.1975\n",
      "Epoch 17/50\n",
      "49/49 [==============================] - 0s 2ms/step - loss: 0.1808 - val_loss: 0.1985\n",
      "Epoch 18/50\n",
      "49/49 [==============================] - 0s 2ms/step - loss: 0.1807 - val_loss: 0.1976\n",
      "Epoch 19/50\n",
      "49/49 [==============================] - 0s 2ms/step - loss: 0.1799 - val_loss: 0.1984\n",
      "Epoch 20/50\n",
      "49/49 [==============================] - 0s 2ms/step - loss: 0.1791 - val_loss: 0.1975\n",
      "Epoch 21/50\n",
      "49/49 [==============================] - 0s 2ms/step - loss: 0.1788 - val_loss: 0.1979\n",
      "Epoch 22/50\n",
      "49/49 [==============================] - 0s 2ms/step - loss: 0.1782 - val_loss: 0.1979\n",
      "Epoch 23/50\n",
      "49/49 [==============================] - 0s 2ms/step - loss: 0.1782 - val_loss: 0.1980\n",
      "Epoch 24/50\n",
      "49/49 [==============================] - 0s 2ms/step - loss: 0.1775 - val_loss: 0.1994\n",
      "Epoch 25/50\n",
      "49/49 [==============================] - 0s 2ms/step - loss: 0.1763 - val_loss: 0.1986\n",
      "Epoch 26/50\n",
      "49/49 [==============================] - 0s 2ms/step - loss: 0.1756 - val_loss: 0.1975\n",
      "Epoch 27/50\n",
      "49/49 [==============================] - 0s 2ms/step - loss: 0.1756 - val_loss: 0.1987\n",
      "Epoch 28/50\n",
      "49/49 [==============================] - 0s 2ms/step - loss: 0.1754 - val_loss: 0.1988\n",
      "Epoch 29/50\n",
      "49/49 [==============================] - 0s 2ms/step - loss: 0.1743 - val_loss: 0.2000\n",
      "Epoch 30/50\n",
      "49/49 [==============================] - 0s 2ms/step - loss: 0.1745 - val_loss: 0.1991\n",
      "Epoch 31/50\n",
      "49/49 [==============================] - 0s 2ms/step - loss: 0.1730 - val_loss: 0.1983\n",
      "Epoch 32/50\n",
      "49/49 [==============================] - 0s 2ms/step - loss: 0.1725 - val_loss: 0.2007\n",
      "Epoch 33/50\n",
      "49/49 [==============================] - 0s 1ms/step - loss: 0.1726 - val_loss: 0.1994\n",
      "Epoch 34/50\n",
      "49/49 [==============================] - 0s 2ms/step - loss: 0.1721 - val_loss: 0.2003\n",
      "Epoch 35/50\n",
      "49/49 [==============================] - 0s 2ms/step - loss: 0.1718 - val_loss: 0.2000\n",
      "Epoch 36/50\n",
      "49/49 [==============================] - 0s 2ms/step - loss: 0.1715 - val_loss: 0.2024\n",
      "Epoch 37/50\n",
      "49/49 [==============================] - 0s 2ms/step - loss: 0.1717 - val_loss: 0.2010\n",
      "Epoch 38/50\n",
      "49/49 [==============================] - 0s 2ms/step - loss: 0.1702 - val_loss: 0.2002\n",
      "Epoch 39/50\n",
      "49/49 [==============================] - 0s 2ms/step - loss: 0.1695 - val_loss: 0.2005\n",
      "Epoch 40/50\n",
      "49/49 [==============================] - 0s 2ms/step - loss: 0.1692 - val_loss: 0.2002\n",
      "Epoch 41/50\n",
      "49/49 [==============================] - 0s 2ms/step - loss: 0.1691 - val_loss: 0.2003\n",
      "Epoch 42/50\n",
      "49/49 [==============================] - 0s 2ms/step - loss: 0.1688 - val_loss: 0.2018\n",
      "Epoch 43/50\n",
      "49/49 [==============================] - 0s 2ms/step - loss: 0.1677 - val_loss: 0.2017\n",
      "Epoch 44/50\n",
      "49/49 [==============================] - 0s 2ms/step - loss: 0.1682 - val_loss: 0.2034\n",
      "Epoch 45/50\n",
      "49/49 [==============================] - 0s 2ms/step - loss: 0.1684 - val_loss: 0.2019\n",
      "Epoch 46/50\n",
      "49/49 [==============================] - 0s 2ms/step - loss: 0.1665 - val_loss: 0.2021\n",
      "Epoch 47/50\n",
      "49/49 [==============================] - 0s 2ms/step - loss: 0.1663 - val_loss: 0.2026\n",
      "Epoch 48/50\n",
      "49/49 [==============================] - 0s 1ms/step - loss: 0.1661 - val_loss: 0.2027\n",
      "Epoch 49/50\n",
      "49/49 [==============================] - 0s 1ms/step - loss: 0.1666 - val_loss: 0.2031\n",
      "Epoch 50/50\n",
      "49/49 [==============================] - 0s 1ms/step - loss: 0.1650 - val_loss: 0.2038\n"
     ]
    }
   ],
   "source": [
    "history = model.fit(\n",
    "    X_train, y_train,\n",
    "    validation_data=(X_valid, y_valid),\n",
    "    batch_size=512,\n",
    "    epochs=50,\n",
    ")"
   ]
  },
  {
   "cell_type": "code",
   "execution_count": 33,
   "metadata": {},
   "outputs": [
    {
     "name": "stdout",
     "output_type": "stream",
     "text": [
      "Minimum Validation Loss: 0.1964\n"
     ]
    },
    {
     "data": {
      "image/png": "[encoded data removed]",
      "text/plain": [
       "<Figure size 432x288 with 1 Axes>"
      ]
     },
     "metadata": {},
     "output_type": "display_data"
    }
   ],
   "source": [
    "history_df = pd.DataFrame(history.history)\n",
    "history_df.loc[:, ['loss', 'val_loss']].plot()\n",
    "print(\"Minimum Validation Loss: {:0.4f}\".format(history_df['val_loss'].min()));"
   ]
  },
  {
   "cell_type": "markdown",
   "metadata": {},
   "source": [
    "**Define Early Stopping Callback**"
   ]
  },
  {
   "cell_type": "code",
   "execution_count": 35,
   "metadata": {},
   "outputs": [],
   "source": [
    "early_stopping = callbacks.EarlyStopping(\n",
    "    min_delta=0.001, # minimium amount of change to count as an improvement\n",
    "    patience=20, # how many epochs to wait before stopping\n",
    "    restore_best_weights=True,\n",
    ")"
   ]
  },
  {
   "cell_type": "code",
   "execution_count": 36,
   "metadata": {
    "collapsed": true,
    "jupyter": {
     "outputs_hidden": true
    }
   },
   "outputs": [
    {
     "name": "stdout",
     "output_type": "stream",
     "text": [
      "Epoch 1/50\n",
      "49/49 [==============================] - 0s 3ms/step - loss: 0.2237 - val_loss: 0.2074\n",
      "Epoch 2/50\n",
      "49/49 [==============================] - 0s 2ms/step - loss: 0.1996 - val_loss: 0.2024\n",
      "Epoch 3/50\n",
      "49/49 [==============================] - 0s 2ms/step - loss: 0.1951 - val_loss: 0.2002\n",
      "Epoch 4/50\n",
      "49/49 [==============================] - 0s 2ms/step - loss: 0.1921 - val_loss: 0.1993\n",
      "Epoch 5/50\n",
      "49/49 [==============================] - 0s 2ms/step - loss: 0.1906 - val_loss: 0.1996\n",
      "Epoch 6/50\n",
      "49/49 [==============================] - 0s 2ms/step - loss: 0.1891 - val_loss: 0.1996\n",
      "Epoch 7/50\n",
      "49/49 [==============================] - 0s 2ms/step - loss: 0.1874 - val_loss: 0.1967\n",
      "Epoch 8/50\n",
      "49/49 [==============================] - 0s 2ms/step - loss: 0.1867 - val_loss: 0.1971\n",
      "Epoch 9/50\n",
      "49/49 [==============================] - 0s 2ms/step - loss: 0.1853 - val_loss: 0.1973\n",
      "Epoch 10/50\n",
      "49/49 [==============================] - 0s 2ms/step - loss: 0.1853 - val_loss: 0.1980\n",
      "Epoch 11/50\n",
      "49/49 [==============================] - 0s 1ms/step - loss: 0.1846 - val_loss: 0.1979\n",
      "Epoch 12/50\n",
      "49/49 [==============================] - 0s 2ms/step - loss: 0.1835 - val_loss: 0.1971\n",
      "Epoch 13/50\n",
      "49/49 [==============================] - 0s 2ms/step - loss: 0.1829 - val_loss: 0.1993\n",
      "Epoch 14/50\n",
      "49/49 [==============================] - 0s 2ms/step - loss: 0.1819 - val_loss: 0.1981\n",
      "Epoch 15/50\n",
      "49/49 [==============================] - 0s 2ms/step - loss: 0.1810 - val_loss: 0.1978\n",
      "Epoch 16/50\n",
      "49/49 [==============================] - 0s 2ms/step - loss: 0.1803 - val_loss: 0.1986\n",
      "Epoch 17/50\n",
      "49/49 [==============================] - 0s 2ms/step - loss: 0.1795 - val_loss: 0.1986\n",
      "Epoch 18/50\n",
      "49/49 [==============================] - 0s 2ms/step - loss: 0.1790 - val_loss: 0.1982\n",
      "Epoch 19/50\n",
      "49/49 [==============================] - 0s 2ms/step - loss: 0.1791 - val_loss: 0.1984\n",
      "Epoch 20/50\n",
      "49/49 [==============================] - 0s 2ms/step - loss: 0.1780 - val_loss: 0.1982\n",
      "Epoch 21/50\n",
      "49/49 [==============================] - 0s 2ms/step - loss: 0.1782 - val_loss: 0.1987\n",
      "Epoch 22/50\n",
      "49/49 [==============================] - 0s 2ms/step - loss: 0.1765 - val_loss: 0.2000\n",
      "Epoch 23/50\n",
      "49/49 [==============================] - 0s 2ms/step - loss: 0.1762 - val_loss: 0.1998\n",
      "Epoch 24/50\n",
      "49/49 [==============================] - 0s 2ms/step - loss: 0.1760 - val_loss: 0.2013\n",
      "Epoch 25/50\n",
      "49/49 [==============================] - 0s 2ms/step - loss: 0.1749 - val_loss: 0.2008\n",
      "Epoch 26/50\n",
      "49/49 [==============================] - 0s 2ms/step - loss: 0.1745 - val_loss: 0.1997\n",
      "Epoch 27/50\n",
      "49/49 [==============================] - 0s 2ms/step - loss: 0.1741 - val_loss: 0.2005\n",
      "Minimum Validation Loss: 0.1967\n"
     ]
    },
    {
     "data": {
      "image/png": "[encoded data removed]",
      "text/plain": [
       "<Figure size 432x288 with 1 Axes>"
      ]
     },
     "metadata": {},
     "output_type": "display_data"
    }
   ],
   "source": [
    "model = keras.Sequential([\n",
    "    layers.Dense(128, activation='relu', input_shape=input_shape),\n",
    "    layers.Dense(64, activation='relu'),    \n",
    "    layers.Dense(1)\n",
    "])\n",
    "model.compile(\n",
    "    optimizer='adam',\n",
    "    loss='mae',\n",
    ")\n",
    "history = model.fit(\n",
    "    X_train, y_train,\n",
    "    validation_data=(X_valid, y_valid),\n",
    "    batch_size=512,\n",
    "    epochs=50,\n",
    "    callbacks=[early_stopping]\n",
    ")\n",
    "history_df = pd.DataFrame(history.history)\n",
    "history_df.loc[:, ['loss', 'val_loss']].plot()\n",
    "print(\"Minimum Validation Loss: {:0.4f}\".format(history_df['val_loss'].min()));"
   ]
  },
  {
   "cell_type": "code",
   "execution_count": null,
   "metadata": {},
   "outputs": [],
   "source": []
  }
 ],
 "metadata": {
  "kernelspec": {
   "display_name": "Python 3",
   "language": "python",
   "name": "python3"
  },
  "language_info": {
   "codemirror_mode": {
    "name": "ipython",
    "version": 3
   },
   "file_extension": ".py",
   "mimetype": "text/x-python",
   "name": "python",
   "nbconvert_exporter": "python",
   "pygments_lexer": "ipython3",
   "version": "3.6.8"
  }
 },
 "nbformat": 4,
 "nbformat_minor": 4
}
