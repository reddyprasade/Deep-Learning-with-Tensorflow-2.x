{
  "cells":[
    {
      "cell_type":"code",
      "source":[
        "import numpy as np\n",
        "import matplotlib.pyplot as plt\n",
        "from tensorflow import keras\n",
        "from tensorflow.keras import layers\n",
        "import tensorflow as tf"
      ],
      "execution_count":11,
      "outputs":[
        
      ],
      "metadata":{
        
      }
    },
    {
      "cell_type":"code",
      "source":[
        "[\n",
        "  [\"Hello\", \"world\", \"!\"],\n",
        "  [\"How\", \"are\", \"you\", \"doing\", \"today\"],\n",
        "  [\"The\", \"weather\", \"will\", \"be\", \"nice\", \"tomorrow\"],\n",
        "]"
      ],
      "execution_count":2,
      "outputs":[
        {
          "data":{
            "text\/plain":[
              "[['Hello', 'world', '!'],\n",
              " ['How', 'are', 'you', 'doing', 'today'],\n",
              " ['The', 'weather', 'will', 'be', 'nice', 'tomorrow']]"
            ]
          },
          "metadata":{
            
          },
          "output_type":"display_data"
        }
      ],
      "metadata":{
        
      }
    },
    {
      "cell_type":"code",
      "source":[
        "# After vocabulary lookup, the data might be vectorized as integers, e.g.:\n",
        "raw_input = [[71, 1331, 4231],\n",
        "[73, 8, 3215, 55, 927],\n",
        "[83, 91, 1, 645, 1253, 927]]"
      ],
      "execution_count":4,
      "outputs":[
        
      ],
      "metadata":{
        
      }
    },
    {
      "cell_type":"code",
      "source":[
        "padding_input = keras.preprocessing.sequence.pad_sequences(raw_input,padding='post')  "
      ],
      "execution_count":5,
      "outputs":[
        
      ],
      "metadata":{
        
      }
    },
    {
      "cell_type":"code",
      "source":[
        "print(padding_input)"
      ],
      "execution_count":6,
      "outputs":[
        {
          "name":"stdout",
          "text":[
            "[[  71 1331 4231    0    0    0]\n",
            " [  73    8 3215   55  927    0]\n",
            " [  83   91    1  645 1253  927]]\n"
          ],
          "output_type":"stream"
        }
      ],
      "metadata":{
        
      }
    },
    {
      "cell_type":"code",
      "source":[
        "padding_input = keras.preprocessing.sequence.pad_sequences(raw_input,padding='pre')  "
      ],
      "execution_count":7,
      "outputs":[
        
      ],
      "metadata":{
        
      }
    },
    {
      "cell_type":"code",
      "source":[
        "print(padding_input)"
      ],
      "execution_count":8,
      "outputs":[
        {
          "name":"stdout",
          "text":[
            "[[   0    0    0   71 1331 4231]\n",
            " [   0   73    8 3215   55  927]\n",
            " [  83   91    1  645 1253  927]]\n"
          ],
          "output_type":"stream"
        }
      ],
      "metadata":{
        
      }
    },
    {
      "cell_type":"code",
      "source":[
        "t = tf.constant([[1, 2, 3], \n",
        "                [4, 5, 6]])\n",
        "paddings = tf.constant([[1, 1,], \n",
        "                        [2, 2]])"
      ],
      "execution_count":12,
      "outputs":[
        
      ],
      "metadata":{
        
      }
    },
    {
      "cell_type":"code",
      "source":[
        "tf.pad(t,paddings,\"CONSTANT\") # We are adding Zero"
      ],
      "execution_count":13,
      "outputs":[
        {
          "data":{
            "text\/plain":[
              "<tf.Tensor: shape=(4, 7), dtype=int32, numpy=\n",
              "array([[0, 0, 0, 0, 0, 0, 0],\n",
              "       [0, 0, 1, 2, 3, 0, 0],\n",
              "       [0, 0, 4, 5, 6, 0, 0],\n",
              "       [0, 0, 0, 0, 0, 0, 0]], dtype=int32)>"
            ]
          },
          "metadata":{
            
          },
          "output_type":"display_data"
        }
      ],
      "metadata":{
        
      }
    },
    {
      "cell_type":"code",
      "source":[
        "tf.pad(t,paddings,'REFLECT') # we will add  Ne pix values"
      ],
      "execution_count":14,
      "outputs":[
        {
          "data":{
            "text\/plain":[
              "<tf.Tensor: shape=(4, 7), dtype=int32, numpy=\n",
              "array([[6, 5, 4, 5, 6, 5, 4],\n",
              "       [3, 2, 1, 2, 3, 2, 1],\n",
              "       [6, 5, 4, 5, 6, 5, 4],\n",
              "       [3, 2, 1, 2, 3, 2, 1]], dtype=int32)>"
            ]
          },
          "metadata":{
            
          },
          "output_type":"display_data"
        }
      ],
      "metadata":{
        
      }
    },
    {
      "cell_type":"code",
      "source":[
        "tf.pad(t, paddings, \"SYMMETRIC\")"
      ],
      "execution_count":15,
      "outputs":[
        {
          "data":{
            "text\/plain":[
              "<tf.Tensor: shape=(4, 7), dtype=int32, numpy=\n",
              "array([[2, 1, 1, 2, 3, 3, 2],\n",
              "       [2, 1, 1, 2, 3, 3, 2],\n",
              "       [5, 4, 4, 5, 6, 6, 5],\n",
              "       [5, 4, 4, 5, 6, 6, 5]], dtype=int32)>"
            ]
          },
          "metadata":{
            
          },
          "output_type":"display_data"
        }
      ],
      "metadata":{
        
      }
    },
    {
      "cell_type":"markdown",
      "source":[
        "**VALID:** it means no padding and it assumes that all the dimensions are valid so that the input image gets fully covered by a filter and the stride specified by you.\n",
        "\n",
        "**SAME:** it applies padding to the input image so that the input image gets fully covered by the filter and specified stride\n",
        "* It is called SAME because, for stride 1 , the output will be the same as the input.\n",
        "\n",
        "![](https:\/\/lh3.googleusercontent.com\/-aQpVb4KyrTQ\/X_KmwlRn5yI\/AAAAAAAAsMc\/-hK90My8yP01Ko2zFxLVGtoHRD-xBWeZgCK8BGAsYHg\/s0\/2021-01-03.png)"
      ],
      "metadata":{
        
      }
    },
    {
      "cell_type":"markdown",
      "source":[
        
      ],
      "metadata":{
        
      }
    },
    {
      "cell_type":"markdown",
      "source":[
        
      ],
      "metadata":{
        
      }
    },
    {
      "cell_type":"markdown",
      "source":[
        
      ],
      "metadata":{
        
      }
    },
    {
      "cell_type":"code",
      "source":[
        
      ],
      "execution_count":0,
      "outputs":[
        
      ],
      "metadata":{
        
      }
    }
  ],
  "metadata":{
    
  },
  "nbformat":4,
  "nbformat_minor":0
}