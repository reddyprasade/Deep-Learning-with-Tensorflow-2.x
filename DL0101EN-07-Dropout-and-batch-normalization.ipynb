{
  "cells": [
    {
      "cell_type": "markdown",
      "source": [
        "# Introduction #\n",
        "\n",
        "There's more to the world of deep learning than just dense layers. There are dozens of kinds of layers you might add to a model. (Try browsing through the [Keras docs](https://www.tensorflow.org/api_docs/python/tf/keras/layers/) for a sample!) Some are like dense layers and define connections between neurons, and others can do preprocessing or transformations of other sorts.\n",
        "\n",
        "In this lesson, we'll learn about a two kinds of special layers, not containing any neurons themselves, but that add some functionality that can sometimes benefit a model in various ways. Both are commonly used in modern architectures.\n",
        "\n",
        "# Dropout #\n",
        "\n",
        "The first of these is the \"dropout layer\", which can help correct overfitting.\n",
        "\n",
        "In the last lesson we talked about how overfitting is caused by the network learning spurious patterns in the training data. To recognize these spurious patterns a network will often rely on very a specific combinations of weight, a kind of \"conspiracy\" of weights. Being so specific, they tend to be fragile: remove one and the conspiracy falls apart.\n",
        "\n",
        "This is the idea behind **dropout**. To break up these conspiracies, we randomly *drop out* some fraction of a layer's input units every step of training, making it much harder for the network to learn those spurious patterns in the training data. Instead, it has to search for broad, general patterns, whose weight patterns tend to be more robust.\n",
        "\n",
        "<figure style=\"padding: 1em;\">\n",
        "<img src=\"https://i.imgur.com/a86utxY.gif\" width=\"600\" alt=\"An animation of a network cycling through various random dropout configurations.\">\n",
        "<figcaption style=\"textalign: center; font-style: italic\"><center>Here, 50% dropout has been added between the two hidden layers.</center></figcaption>\n",
        "</figure>\n",
        "\n",
        "You could also think about dropout as creating a kind of *ensemble* of networks. The predictions will no longer be made by one big network, but instead by a committee of smaller networks. Individuals in the committee tend to make different kinds of mistakes, but be right at the same time, making the committee as a whole better than any individual. (If you're familiar with random forests as an ensemble of decision trees, it's the same idea.)\n",
        "\n",
        "## Adding Dropout ##\n",
        "\n",
        "In Keras, the dropout rate argument `rate` defines what percentage of the input units to shut off. Put the `Dropout` layer just before the layer you want the dropout applied to:\n",
        "\n",
        "```\n",
        "keras.Sequential([\n",
        "    # ...\n",
        "    layers.Dropout(rate=0.3), # apply 30% dropout to the next layer\n",
        "    layers.Dense(16),\n",
        "    # ...\n",
        "])\n",
        "```\n",
        "\n",
        "# Batch Normalization #\n",
        "\n",
        "The next special layer we'll look at performs \"batch normalization\" (or \"batchnorm\"), which can help correct training that is slow or unstable.\n",
        "\n",
        "With neural networks, it's generally a good idea to put all of your data on a common scale, perhaps with something like scikit-learn's [StandardScaler](https://scikit-learn.org/stable/modules/generated/sklearn.preprocessing.StandardScaler.html) or [MinMaxScaler](https://scikit-learn.org/stable/modules/generated/sklearn.preprocessing.MinMaxScaler.html). The reason is that SGD will shift the network weights in proportion to how large an activation the data produces. Features that tend to produce activations of very different sizes can make for unstable training behavior.\n",
        "\n",
        "Now, if it's good to normalize the data before it goes into the network, maybe also normalizing inside the network would be better! In fact, we have a special kind of layer that can do this, the **batch normalization layer**. A batch normalization layer looks at each batch as it comes in, first normalizing the batch with its own mean and standard deviation, and then also putting the data on a new scale with two trainable rescaling parameters. Batchnorm, in effect, performs a kind of coordinated rescaling of its inputs.\n",
        "\n",
        "Most often, batchnorm is added as an aid to the optimization process (though it can sometimes also help prediction performance). Models with batchnorm tend to need fewer epochs to complete training. Moreover, batchnorm can also fix various problems that can cause the training to get \"stuck\". Consider adding batch normalization to your models, especially if you're having trouble during training.\n",
        "\n",
        "## Adding Batch Normalization ##\n",
        "\n",
        "It seems that batch normalization can be used at almost any point in a network. You can put it after a layer...\n",
        "\n",
        "```\n",
        "layers.Dense(16, activation='relu'),\n",
        "layers.BatchNormalization(),\n",
        "```\n",
        "\n",
        "... or between a layer and its activation function:\n",
        "\n",
        "```\n",
        "layers.Dense(16),\n",
        "layers.BatchNormalization(),\n",
        "layers.Activation('relu'),\n",
        "```\n",
        "\n",
        "And if you add it as the first layer of your network it can act as a kind of adaptive preprocessor, standing in for something like Sci-Kit Learn's `StandardScaler`.\n",
        "\n",
        "# Example - Using Dropout and Batch Normalization #\n",
        "\n",
        "Let's continue developing the *Red Wine* model. Now we'll increase the capacity even more, but add dropout to control overfitting and batch normalization to speed up optimization. This time, we'll also leave off standardizing the data, to demonstrate how batch normalization can stabalize the training."
      ],
      "metadata": {
        "papermill": {
          "duration": 0.007696,
          "end_time": "2020-10-20T20:57:27.037782",
          "exception": false,
          "start_time": "2020-10-20T20:57:27.030086",
          "status": "completed"
        },
        "tags": []
      }
    },
    {
      "cell_type": "code",
      "source": [
        "\n",
        "# Setup plotting\n",
        "import matplotlib.pyplot as plt\n",
        "\n",
        "plt.style.use('seaborn-whitegrid')\n",
        "# Set Matplotlib defaults\n",
        "plt.rc('figure', autolayout=True)\n",
        "plt.rc('axes', labelweight='bold', labelsize='large',\n",
        "       titleweight='bold', titlesize=18, titlepad=10)\n",
        "\n",
        "\n",
        "import pandas as pd\n",
        "red_wine = pd.read_csv('Data/red-wine.csv')\n",
        "\n",
        "# Create training and validation splits\n",
        "df_train = red_wine.sample(frac=0.7, random_state=0)\n",
        "df_valid = red_wine.drop(df_train.index)\n",
        "\n",
        "# Split features and target\n",
        "X_train = df_train.drop('quality', axis=1)\n",
        "X_valid = df_valid.drop('quality', axis=1)\n",
        "y_train = df_train['quality']\n",
        "y_valid = df_valid['quality']"
      ],
      "outputs": [],
      "execution_count": 1,
      "metadata": {
        "_kg_hide-input": true,
        "execution": {
          "iopub.execute_input": "2020-12-31T04:24:41.918Z",
          "iopub.status.busy": "2020-12-31T04:24:41.907Z",
          "iopub.status.idle": "2020-12-31T04:24:52.633Z",
          "shell.execute_reply": "2020-12-31T04:24:52.624Z"
        },
        "papermill": {
          "duration": 0.046285,
          "end_time": "2020-10-20T20:57:27.090929",
          "exception": false,
          "start_time": "2020-10-20T20:57:27.044644",
          "status": "completed"
        },
        "tags": []
      }
    },
    {
      "cell_type": "markdown",
      "source": [
        "Whan adding dropout, you may need to increase the number of units in your `Dense` layers."
      ],
      "metadata": {
        "papermill": {
          "duration": 0.006731,
          "end_time": "2020-10-20T20:57:27.105080",
          "exception": false,
          "start_time": "2020-10-20T20:57:27.098349",
          "status": "completed"
        },
        "tags": []
      }
    },
    {
      "cell_type": "code",
      "source": [
        "from tensorflow import keras\n",
        "from tensorflow.keras import layers\n",
        "\n",
        "model = keras.Sequential([\n",
        "    layers.Dense(1024, activation='relu', input_shape=[11]), #input\n",
        "    layers.Dropout(0.3), #hl1\n",
        "    layers.BatchNormalization(),\n",
        "    layers.Dense(1024, activation='relu'),\n",
        "    layers.Dropout(0.3), # hl2\n",
        "    layers.BatchNormalization(),\n",
        "    layers.Dense(1024, activation='relu'),\n",
        "    layers.Dropout(0.3), # hl3\n",
        "    layers.BatchNormalization(),\n",
        "    layers.Dense(1), # output\n",
        "])"
      ],
      "outputs": [],
      "execution_count": 2,
      "metadata": {
        "execution": {
          "iopub.execute_input": "2020-12-31T04:32:28.809Z",
          "iopub.status.busy": "2020-12-31T04:32:28.803Z",
          "iopub.status.idle": "2020-12-31T04:33:09.554Z",
          "shell.execute_reply": "2020-12-31T04:33:09.544Z"
        },
        "papermill": {
          "duration": 6.105895,
          "end_time": "2020-10-20T20:57:33.218086",
          "exception": false,
          "start_time": "2020-10-20T20:57:27.112191",
          "status": "completed"
        },
        "tags": []
      }
    },
    {
      "cell_type": "code",
      "source": [
        "model.summary()"
      ],
      "outputs": [
        {
          "output_type": "stream",
          "name": "stdout",
          "text": [
            "Model: \"sequential\"\n",
            "_________________________________________________________________\n",
            "Layer (type)                 Output Shape              Param #   \n",
            "=================================================================\n",
            "dense (Dense)                (None, 1024)              12288     \n",
            "_________________________________________________________________\n",
            "dropout (Dropout)            (None, 1024)              0         \n",
            "_________________________________________________________________\n",
            "batch_normalization (BatchNo (None, 1024)              4096      \n",
            "_________________________________________________________________\n",
            "dense_1 (Dense)              (None, 1024)              1049600   \n",
            "_________________________________________________________________\n",
            "dropout_1 (Dropout)          (None, 1024)              0         \n",
            "_________________________________________________________________\n",
            "batch_normalization_1 (Batch (None, 1024)              4096      \n",
            "_________________________________________________________________\n",
            "dense_2 (Dense)              (None, 1024)              1049600   \n",
            "_________________________________________________________________\n",
            "dropout_2 (Dropout)          (None, 1024)              0         \n",
            "_________________________________________________________________\n",
            "batch_normalization_2 (Batch (None, 1024)              4096      \n",
            "_________________________________________________________________\n",
            "dense_3 (Dense)              (None, 1)                 1025      \n",
            "=================================================================\n",
            "Total params: 2,124,801\n",
            "Trainable params: 2,118,657\n",
            "Non-trainable params: 6,144\n",
            "_________________________________________________________________\n"
          ]
        }
      ],
      "execution_count": 3,
      "metadata": {
        "collapsed": true,
        "jupyter": {
          "source_hidden": false,
          "outputs_hidden": false
        },
        "nteract": {
          "transient": {
            "deleting": false
          }
        },
        "execution": {
          "iopub.status.busy": "2020-12-31T04:52:29.191Z",
          "iopub.execute_input": "2020-12-31T04:52:29.208Z",
          "shell.execute_reply": "2020-12-31T04:52:29.320Z",
          "iopub.status.idle": "2020-12-31T04:52:29.328Z"
        }
      }
    },
    {
      "cell_type": "markdown",
      "source": [
        "There's nothing to change this time in how we set up the training."
      ],
      "metadata": {
        "papermill": {
          "duration": 0.006798,
          "end_time": "2020-10-20T20:57:33.232276",
          "exception": false,
          "start_time": "2020-10-20T20:57:33.225478",
          "status": "completed"
        },
        "tags": []
      }
    },
    {
      "cell_type": "code",
      "source": [
        "model.compile(\n",
        "    optimizer='adam',\n",
        "    loss='mae',\n",
        ")\n",
        "\n",
        "history = model.fit(\n",
        "    X_train, y_train,\n",
        "    validation_data=(X_valid, y_valid),\n",
        "    batch_size=256,\n",
        "    epochs=100,\n",
        "    verbose=0,\n",
        ")\n",
        "\n",
        "\n",
        "# Show the learning curves\n",
        "history_df = pd.DataFrame(history.history)\n",
        "history_df.loc[:, ['loss', 'val_loss']].plot();"
      ],
      "outputs": [
        {
          "output_type": "stream",
          "name": "stdout",
          "text": [
            "Epoch 1/100\n",
            "5/5 [==============================] - 0s 78ms/step - loss: 0.5856 - val_loss: 0.5664\b\b\b\b\b\b\b\b\b\b\b\b\b\b\b\b\b\b\b\b\b\b\b\b\b\b\b\b\b\b\b\b\b\b\b\b\b\n",
            "Epoch 2/100\n",
            "5/5 [==============================] - 0s 44ms/step - loss: 0.5887 - val_loss: 0.5114\b\b\b\b\b\b\b\b\b\b\b\b\b\b\b\b\b\b\b\b\b\b\b\b\b\b\b\b\b\b\b\b\b\b\b\b\b\n",
            "Epoch 3/100\n",
            "5/5 [==============================] - 0s 44ms/step - loss: 0.6017 - val_loss: 0.5212\b\b\b\b\b\b\b\b\b\b\b\b\b\b\b\b\b\b\b\b\b\b\b\b\b\b\b\b\b\b\b\b\b\b\b\b\b\n",
            "Epoch 4/100\n",
            "5/5 [==============================] - 0s 51ms/step - loss: 0.5474 - val_loss: 0.5373\b\b\b\b\b\b\b\b\b\b\b\b\b\b\b\b\b\b\b\b\b\b\b\b\b\b\b\b\b\b\b\b\b\b\b\b\b\n",
            "Epoch 5/100\n",
            "5/5 [==============================] - 0s 52ms/step - loss: 0.5777 - val_loss: 0.5368\b\b\b\b\b\b\b\b\b\b\b\b\b\b\b\b\b\b\b\b\b\b\b\b\b\b\b\b\b\b\b\b\b\b\b\b\b\n",
            "Epoch 6/100\n",
            "5/5 [==============================] - 0s 57ms/step - loss: 0.5765 - val_loss: 0.5049\b\b\b\b\b\b\b\b\b\b\b\b\b\b\b\b\b\b\b\b\b\b\b\b\b\b\b\b\b\b\b\b\b\b\b\b\b\n",
            "Epoch 7/100\n",
            "5/5 [==============================] - 0s 49ms/step - loss: 0.5639 - val_loss: 0.4944\b\b\b\b\b\b\b\b\b\b\b\b\b\b\b\b\b\b\b\b\b\b\b\b\b\b\b\b\b\b\b\b\b\b\b\b\b\n",
            "Epoch 8/100\n",
            "5/5 [==============================] - 0s 52ms/step - loss: 0.5760 - val_loss: 0.5141\b\b\b\b\b\b\b\b\b\b\b\b\b\b\b\b\b\b\b\b\b\b\b\b\b\b\b\b\b\b\b\b\b\b\b\b\b\n",
            "Epoch 9/100\n",
            "5/5 [==============================] - 0s 59ms/step - loss: 0.5513 - val_loss: 0.5098\b\b\b\b\b\b\b\b\b\b\b\b\b\b\b\b\b\b\b\b\b\b\b\b\b\b\b\b\b\b\b\b\b\b\b\b\b\n",
            "Epoch 10/100\n",
            "5/5 [==============================] - 0s 55ms/step - loss: 0.5892 - val_loss: 0.5494\b\b\b\b\b\b\b\b\b\b\b\b\b\b\b\b\b\b\b\b\b\b\b\b\b\b\b\b\b\b\b\b\b\b\b\b\b\n",
            "Epoch 11/100\n",
            "5/5 [==============================] - 0s 53ms/step - loss: 0.5982 - val_loss: 0.5307\b\b\b\b\b\b\b\b\b\b\b\b\b\b\b\b\b\b\b\b\b\b\b\b\b\b\b\b\b\b\b\b\b\b\b\b\b\n",
            "Epoch 12/100\n",
            "5/5 [==============================] - 0s 47ms/step - loss: 0.5476 - val_loss: 0.5114\b\b\b\b\b\b\b\b\b\b\b\b\b\b\b\b\b\b\b\b\b\b\b\b\b\b\b\b\b\b\b\b\b\b\b\b\b\n",
            "Epoch 13/100\n",
            "5/5 [==============================] - 0s 52ms/step - loss: 0.5769 - val_loss: 0.5643\b\b\b\b\b\b\b\b\b\b\b\b\b\b\b\b\b\b\b\b\b\b\b\b\b\b\b\b\b\b\b\b\b\b\b\b\b\n",
            "Epoch 14/100\n",
            "5/5 [==============================] - 0s 52ms/step - loss: 0.6086 - val_loss: 0.5174\b\b\b\b\b\b\b\b\b\b\b\b\b\b\b\b\b\b\b\b\b\b\b\b\b\b\b\b\b\b\b\b\b\b\b\b\b\n",
            "Epoch 15/100\n",
            "5/5 [==============================] - 0s 51ms/step - loss: 0.5716 - val_loss: 0.6103\b\b\b\b\b\b\b\b\b\b\b\b\b\b\b\b\b\b\b\b\b\b\b\b\b\b\b\b\b\b\b\b\b\b\b\b\b\n",
            "Epoch 16/100\n",
            "5/5 [==============================] - 0s 50ms/step - loss: 0.5855 - val_loss: 0.5141\b\b\b\b\b\b\b\b\b\b\b\b\b\b\b\b\b\b\b\b\b\b\b\b\b\b\b\b\b\b\b\b\b\b\b\b\b\n",
            "Epoch 17/100\n",
            "5/5 [==============================] - 0s 51ms/step - loss: 0.5968 - val_loss: 0.5263\b\b\b\b\b\b\b\b\b\b\b\b\b\b\b\b\b\b\b\b\b\b\b\b\b\b\b\b\b\b\b\b\b\b\b\b\b\n",
            "Epoch 18/100\n",
            "5/5 [==============================] - 0s 54ms/step - loss: 0.5962 - val_loss: 0.5653\b\b\b\b\b\b\b\b\b\b\b\b\b\b\b\b\b\b\b\b\b\b\b\b\b\b\b\b\b\b\b\b\b\b\b\b\b\n",
            "Epoch 19/100\n",
            "5/5 [==============================] - 0s 51ms/step - loss: 0.5990 - val_loss: 0.5607\b\b\b\b\b\b\b\b\b\b\b\b\b\b\b\b\b\b\b\b\b\b\b\b\b\b\b\b\b\b\b\b\b\b\b\b\b\n",
            "Epoch 20/100\n",
            "5/5 [==============================] - 0s 51ms/step - loss: 0.5662 - val_loss: 0.5303\b\b\b\b\b\b\b\b\b\b\b\b\b\b\b\b\b\b\b\b\b\b\b\b\b\b\b\b\b\b\b\b\b\b\b\b\b\n",
            "Epoch 21/100\n",
            "5/5 [==============================] - 0s 50ms/step - loss: 0.5825 - val_loss: 0.5854\b\b\b\b\b\b\b\b\b\b\b\b\b\b\b\b\b\b\b\b\b\b\b\b\b\b\b\b\b\b\b\b\b\b\b\b\b\n",
            "Epoch 22/100\n",
            "5/5 [==============================] - 0s 53ms/step - loss: 0.5938 - val_loss: 0.5572\b\b\b\b\b\b\b\b\b\b\b\b\b\b\b\b\b\b\b\b\b\b\b\b\b\b\b\b\b\b\b\b\b\b\b\b\b\n",
            "Epoch 23/100\n",
            "5/5 [==============================] - 0s 54ms/step - loss: 0.6234 - val_loss: 0.5124\b\b\b\b\b\b\b\b\b\b\b\b\b\b\b\b\b\b\b\b\b\b\b\b\b\b\b\b\b\b\b\b\b\b\b\b\b\n",
            "Epoch 24/100\n",
            "5/5 [==============================] - 0s 49ms/step - loss: 0.5634 - val_loss: 0.5087\b\b\b\b\b\b\b\b\b\b\b\b\b\b\b\b\b\b\b\b\b\b\b\b\b\b\b\b\b\b\b\b\b\b\b\b\b\n",
            "Epoch 25/100\n",
            "5/5 [==============================] - 0s 50ms/step - loss: 0.5801 - val_loss: 0.5464\b\b\b\b\b\b\b\b\b\b\b\b\b\b\b\b\b\b\b\b\b\b\b\b\b\b\b\b\b\b\b\b\b\b\b\b\b\n",
            "Epoch 26/100\n",
            "5/5 [==============================] - 0s 49ms/step - loss: 0.5877 - val_loss: 0.5316\b\b\b\b\b\b\b\b\b\b\b\b\b\b\b\b\b\b\b\b\b\b\b\b\b\b\b\b\b\b\b\b\b\b\b\b\b\n",
            "Epoch 27/100\n",
            "5/5 [==============================] - 0s 52ms/step - loss: 0.5698 - val_loss: 0.5464\b\b\b\b\b\b\b\b\b\b\b\b\b\b\b\b\b\b\b\b\b\b\b\b\b\b\b\b\b\b\b\b\b\b\b\b\b\n",
            "Epoch 28/100\n",
            "5/5 [==============================] - 0s 49ms/step - loss: 0.5902 - val_loss: 0.5677\b\b\b\b\b\b\b\b\b\b\b\b\b\b\b\b\b\b\b\b\b\b\b\b\b\b\b\b\b\b\b\b\b\b\b\b\b\n",
            "Epoch 29/100\n",
            "5/5 [==============================] - 0s 46ms/step - loss: 0.5601 - val_loss: 0.6144\b\b\b\b\b\b\b\b\b\b\b\b\b\b\b\b\b\b\b\b\b\b\b\b\b\b\b\b\b\b\b\b\b\b\b\b\b\n",
            "Epoch 30/100\n",
            "5/5 [==============================] - 0s 50ms/step - loss: 0.5522 - val_loss: 0.5887\b\b\b\b\b\b\b\b\b\b\b\b\b\b\b\b\b\b\b\b\b\b\b\b\b\b\b\b\b\b\b\b\b\b\b\b\b\n",
            "Epoch 31/100\n",
            "5/5 [==============================] - 0s 85ms/step - loss: 0.5904 - val_loss: 0.5535\b\b\b\b\b\b\b\b\b\b\b\b\b\b\b\b\b\b\b\b\b\b\b\b\b\b\b\b\b\b\b\b\b\b\b\b\b\n",
            "Epoch 32/100\n",
            "5/5 [==============================] - 0s 50ms/step - loss: 0.5580 - val_loss: 0.5424\b\b\b\b\b\b\b\b\b\b\b\b\b\b\b\b\b\b\b\b\b\b\b\b\b\b\b\b\b\b\b\b\b\b\b\b\b\n",
            "Epoch 33/100\n",
            "5/5 [==============================] - 0s 52ms/step - loss: 0.5582 - val_loss: 0.5877\b\b\b\b\b\b\b\b\b\b\b\b\b\b\b\b\b\b\b\b\b\b\b\b\b\b\b\b\b\b\b\b\b\b\b\b\b\n",
            "Epoch 34/100\n",
            "5/5 [==============================] - 0s 53ms/step - loss: 0.5776 - val_loss: 0.5380\b\b\b\b\b\b\b\b\b\b\b\b\b\b\b\b\b\b\b\b\b\b\b\b\b\b\b\b\b\b\b\b\b\b\b\b\b\n",
            "Epoch 35/100\n",
            "5/5 [==============================] - 0s 57ms/step - loss: 0.5603 - val_loss: 0.5307\b\b\b\b\b\b\b\b\b\b\b\b\b\b\b\b\b\b\b\b\b\b\b\b\b\b\b\b\b\b\b\b\b\b\b\b\b\n",
            "Epoch 36/100\n",
            "5/5 [==============================] - 0s 52ms/step - loss: 0.5942 - val_loss: 0.5323\b\b\b\b\b\b\b\b\b\b\b\b\b\b\b\b\b\b\b\b\b\b\b\b\b\b\b\b\b\b\b\b\b\b\b\b\b\n",
            "Epoch 37/100\n",
            "5/5 [==============================] - 0s 54ms/step - loss: 0.5553 - val_loss: 0.5632\b\b\b\b\b\b\b\b\b\b\b\b\b\b\b\b\b\b\b\b\b\b\b\b\b\b\b\b\b\b\b\b\b\b\b\b\b\n",
            "Epoch 38/100\n",
            "5/5 [==============================] - 0s 51ms/step - loss: 0.5679 - val_loss: 0.5177\b\b\b\b\b\b\b\b\b\b\b\b\b\b\b\b\b\b\b\b\b\b\b\b\b\b\b\b\b\b\b\b\b\b\b\b\b\n",
            "Epoch 39/100\n",
            "5/5 [==============================] - 0s 51ms/step - loss: 0.5581 - val_loss: 0.5237\b\b\b\b\b\b\b\b\b\b\b\b\b\b\b\b\b\b\b\b\b\b\b\b\b\b\b\b\b\b\b\b\b\b\b\b\b\n",
            "Epoch 40/100\n",
            "5/5 [==============================] - 0s 51ms/step - loss: 0.5509 - val_loss: 0.5013\b\b\b\b\b\b\b\b\b\b\b\b\b\b\b\b\b\b\b\b\b\b\b\b\b\b\b\b\b\b\b\b\b\b\b\b\b\n",
            "Epoch 41/100\n",
            "5/5 [==============================] - 0s 52ms/step - loss: 0.5709 - val_loss: 0.5738\b\b\b\b\b\b\b\b\b\b\b\b\b\b\b\b\b\b\b\b\b\b\b\b\b\b\b\b\b\b\b\b\b\b\b\b\b\n",
            "Epoch 42/100\n",
            "5/5 [==============================] - 0s 52ms/step - loss: 0.5821 - val_loss: 0.5471\b\b\b\b\b\b\b\b\b\b\b\b\b\b\b\b\b\b\b\b\b\b\b\b\b\b\b\b\b\b\b\b\b\b\b\b\b\n",
            "Epoch 43/100\n",
            "5/5 [==============================] - 0s 49ms/step - loss: 0.5803 - val_loss: 0.5392\b\b\b\b\b\b\b\b\b\b\b\b\b\b\b\b\b\b\b\b\b\b\b\b\b\b\b\b\b\b\b\b\b\b\b\b\b\n",
            "Epoch 44/100\n",
            "5/5 [==============================] - 0s 51ms/step - loss: 0.5627 - val_loss: 0.5871\b\b\b\b\b\b\b\b\b\b\b\b\b\b\b\b\b\b\b\b\b\b\b\b\b\b\b\b\b\b\b\b\b\b\b\b\b\n",
            "Epoch 45/100\n",
            "5/5 [==============================] - 0s 51ms/step - loss: 0.5395 - val_loss: 0.5581\b\b\b\b\b\b\b\b\b\b\b\b\b\b\b\b\b\b\b\b\b\b\b\b\b\b\b\b\b\b\b\b\b\b\b\b\b\n",
            "Epoch 46/100\n",
            "5/5 [==============================] - 0s 50ms/step - loss: 0.5752 - val_loss: 0.5460\b\b\b\b\b\b\b\b\b\b\b\b\b\b\b\b\b\b\b\b\b\b\b\b\b\b\b\b\b\b\b\b\b\b\b\b\b\n",
            "Epoch 47/100\n",
            "5/5 [==============================] - 0s 49ms/step - loss: 0.5549 - val_loss: 0.5722\b\b\b\b\b\b\b\b\b\b\b\b\b\b\b\b\b\b\b\b\b\b\b\b\b\b\b\b\b\b\b\b\b\b\b\b\b\n",
            "Epoch 48/100\n",
            "5/5 [==============================] - 0s 52ms/step - loss: 0.5658 - val_loss: 0.5506\b\b\b\b\b\b\b\b\b\b\b\b\b\b\b\b\b\b\b\b\b\b\b\b\b\b\b\b\b\b\b\b\b\b\b\b\b\n",
            "Epoch 49/100\n",
            "5/5 [==============================] - 0s 79ms/step - loss: 0.5639 - val_loss: 0.5459\b\b\b\b\b\b\b\b\b\b\b\b\b\b\b\b\b\b\b\b\b\b\b\b\b\b\b\b\b\b\b\b\b\b\b\b\b\n",
            "Epoch 50/100\n",
            "5/5 [==============================] - 0s 49ms/step - loss: 0.5914 - val_loss: 0.5063\b\b\b\b\b\b\b\b\b\b\b\b\b\b\b\b\b\b\b\b\b\b\b\b\b\b\b\b\b\b\b\b\b\b\b\b\b\n",
            "Epoch 51/100\n",
            "5/5 [==============================] - 0s 50ms/step - loss: 0.5471 - val_loss: 0.5212\b\b\b\b\b\b\b\b\b\b\b\b\b\b\b\b\b\b\b\b\b\b\b\b\b\b\b\b\b\b\b\b\b\b\b\b\b\n",
            "Epoch 52/100\n",
            "5/5 [==============================] - 0s 46ms/step - loss: 0.5735 - val_loss: 0.5066\b\b\b\b\b\b\b\b\b\b\b\b\b\b\b\b\b\b\b\b\b\b\b\b\b\b\b\b\b\b\b\b\b\b\b\b\b\n",
            "Epoch 53/100\n",
            "5/5 [==============================] - 0s 48ms/step - loss: 0.5505 - val_loss: 0.5219\b\b\b\b\b\b\b\b\b\b\b\b\b\b\b\b\b\b\b\b\b\b\b\b\b\b\b\b\b\b\b\b\b\b\b\b\b\n",
            "Epoch 54/100\n",
            "5/5 [==============================] - 0s 50ms/step - loss: 0.5567 - val_loss: 0.5077\b\b\b\b\b\b\b\b\b\b\b\b\b\b\b\b\b\b\b\b\b\b\b\b\b\b\b\b\b\b\b\b\b\b\b\b\b\n",
            "Epoch 55/100\n",
            "5/5 [==============================] - 0s 48ms/step - loss: 0.5751 - val_loss: 0.5254\b\b\b\b\b\b\b\b\b\b\b\b\b\b\b\b\b\b\b\b\b\b\b\b\b\b\b\b\b\b\b\b\b\b\b\b\b\n",
            "Epoch 56/100\n",
            "5/5 [==============================] - 0s 49ms/step - loss: 0.5729 - val_loss: 0.5529\b\b\b\b\b\b\b\b\b\b\b\b\b\b\b\b\b\b\b\b\b\b\b\b\b\b\b\b\b\b\b\b\b\b\b\b\b\n",
            "Epoch 57/100\n",
            "5/5 [==============================] - 0s 50ms/step - loss: 0.5804 - val_loss: 0.5080\b\b\b\b\b\b\b\b\b\b\b\b\b\b\b\b\b\b\b\b\b\b\b\b\b\b\b\b\b\b\b\b\b\b\b\b\b\n",
            "Epoch 58/100\n",
            "5/5 [==============================] - 0s 49ms/step - loss: 0.5566 - val_loss: 0.5547\b\b\b\b\b\b\b\b\b\b\b\b\b\b\b\b\b\b\b\b\b\b\b\b\b\b\b\b\b\b\b\b\b\b\b\b\b\n",
            "Epoch 59/100\n",
            "5/5 [==============================] - 0s 47ms/step - loss: 0.5510 - val_loss: 0.5275\b\b\b\b\b\b\b\b\b\b\b\b\b\b\b\b\b\b\b\b\b\b\b\b\b\b\b\b\b\b\b\b\b\b\b\b\b\n",
            "Epoch 60/100\n",
            "5/5 [==============================] - 0s 44ms/step - loss: 0.5450 - val_loss: 0.5762\b\b\b\b\b\b\b\b\b\b\b\b\b\b\b\b\b\b\b\b\b\b\b\b\b\b\b\b\b\b\b\b\b\b\b\b\b\n",
            "Epoch 61/100\n",
            "5/5 [==============================] - 0s 47ms/step - loss: 0.5372 - val_loss: 0.6031\b\b\b\b\b\b\b\b\b\b\b\b\b\b\b\b\b\b\b\b\b\b\b\b\b\b\b\b\b\b\b\b\b\b\b\b\b\n",
            "Epoch 62/100\n",
            "5/5 [==============================] - 0s 48ms/step - loss: 0.5136 - val_loss: 0.5786\b\b\b\b\b\b\b\b\b\b\b\b\b\b\b\b\b\b\b\b\b\b\b\b\b\b\b\b\b\b\b\b\b\b\b\b\b\n",
            "Epoch 63/100\n",
            "5/5 [==============================] - 0s 51ms/step - loss: 0.5619 - val_loss: 0.5943\b\b\b\b\b\b\b\b\b\b\b\b\b\b\b\b\b\b\b\b\b\b\b\b\b\b\b\b\b\b\b\b\b\b\b\b\b\n",
            "Epoch 64/100\n",
            "5/5 [==============================] - 0s 48ms/step - loss: 0.5497 - val_loss: 0.6195\b\b\b\b\b\b\b\b\b\b\b\b\b\b\b\b\b\b\b\b\b\b\b\b\b\b\b\b\b\b\b\b\b\b\b\b\b\n",
            "Epoch 65/100\n",
            "5/5 [==============================] - 0s 50ms/step - loss: 0.5624 - val_loss: 0.5773\b\b\b\b\b\b\b\b\b\b\b\b\b\b\b\b\b\b\b\b\b\b\b\b\b\b\b\b\b\b\b\b\b\b\b\b\b\n",
            "Epoch 66/100\n",
            "5/5 [==============================] - 0s 47ms/step - loss: 0.5188 - val_loss: 0.5606\b\b\b\b\b\b\b\b\b\b\b\b\b\b\b\b\b\b\b\b\b\b\b\b\b\b\b\b\b\b\b\b\b\b\b\b\b\n",
            "Epoch 67/100\n",
            "5/5 [==============================] - 0s 48ms/step - loss: 0.5259 - val_loss: 0.5710\b\b\b\b\b\b\b\b\b\b\b\b\b\b\b\b\b\b\b\b\b\b\b\b\b\b\b\b\b\b\b\b\b\b\b\b\b\n",
            "Epoch 68/100\n",
            "5/5 [==============================] - 0s 47ms/step - loss: 0.5414 - val_loss: 0.6094\b\b\b\b\b\b\b\b\b\b\b\b\b\b\b\b\b\b\b\b\b\b\b\b\b\b\b\b\b\b\b\b\b\b\b\b\b\n",
            "Epoch 69/100\n",
            "5/5 [==============================] - 0s 46ms/step - loss: 0.5580 - val_loss: 0.6355\b\b\b\b\b\b\b\b\b\b\b\b\b\b\b\b\b\b\b\b\b\b\b\b\b\b\b\b\b\b\b\b\b\b\b\b\b\n",
            "Epoch 70/100\n",
            "5/5 [==============================] - 0s 46ms/step - loss: 0.5787 - val_loss: 0.6068\b\b\b\b\b\b\b\b\b\b\b\b\b\b\b\b\b\b\b\b\b\b\b\b\b\b\b\b\b\b\b\b\b\b\b\b\b\n",
            "Epoch 71/100\n",
            "5/5 [==============================] - 0s 49ms/step - loss: 0.5342 - val_loss: 0.5735\b\b\b\b\b\b\b\b\b\b\b\b\b\b\b\b\b\b\b\b\b\b\b\b\b\b\b\b\b\b\b\b\b\b\b\b\b\n",
            "Epoch 72/100\n",
            "5/5 [==============================] - 0s 47ms/step - loss: 0.5444 - val_loss: 0.5990\b\b\b\b\b\b\b\b\b\b\b\b\b\b\b\b\b\b\b\b\b\b\b\b\b\b\b\b\b\b\b\b\b\b\b\b\b\n",
            "Epoch 73/100\n",
            "5/5 [==============================] - 0s 48ms/step - loss: 0.5433 - val_loss: 0.6074\b\b\b\b\b\b\b\b\b\b\b\b\b\b\b\b\b\b\b\b\b\b\b\b\b\b\b\b\b\b\b\b\b\b\b\b\b\n",
            "Epoch 74/100\n",
            "5/5 [==============================] - 0s 49ms/step - loss: 0.5554 - val_loss: 0.7270\b\b\b\b\b\b\b\b\b\b\b\b\b\b\b\b\b\b\b\b\b\b\b\b\b\b\b\b\b\b\b\b\b\b\b\b\b\n",
            "Epoch 75/100\n",
            "5/5 [==============================] - 0s 71ms/step - loss: 0.5641 - val_loss: 0.6838\b\b\b\b\b\b\b\b\b\b\b\b\b\b\b\b\b\b\b\b\b\b\b\b\b\b\b\b\b\b\b\b\b\b\b\b\b\n",
            "Epoch 76/100\n",
            "5/5 [==============================] - 0s 53ms/step - loss: 0.5600 - val_loss: 0.6084\b\b\b\b\b\b\b\b\b\b\b\b\b\b\b\b\b\b\b\b\b\b\b\b\b\b\b\b\b\b\b\b\b\b\b\b\b\n",
            "Epoch 77/100\n",
            "5/5 [==============================] - 0s 53ms/step - loss: 0.5615 - val_loss: 0.5871\b\b\b\b\b\b\b\b\b\b\b\b\b\b\b\b\b\b\b\b\b\b\b\b\b\b\b\b\b\b\b\b\b\b\b\b\b\n",
            "Epoch 78/100\n",
            "5/5 [==============================] - 0s 52ms/step - loss: 0.5204 - val_loss: 0.5895\b\b\b\b\b\b\b\b\b\b\b\b\b\b\b\b\b\b\b\b\b\b\b\b\b\b\b\b\b\b\b\b\b\b\b\b\b\n",
            "Epoch 79/100\n",
            "5/5 [==============================] - 0s 51ms/step - loss: 0.5355 - val_loss: 0.5693\b\b\b\b\b\b\b\b\b\b\b\b\b\b\b\b\b\b\b\b\b\b\b\b\b\b\b\b\b\b\b\b\b\b\b\b\b\n",
            "Epoch 80/100\n",
            "5/5 [==============================] - 0s 60ms/step - loss: 0.5274 - val_loss: 0.5588\b\b\b\b\b\b\b\b\b\b\b\b\b\b\b\b\b\b\b\b\b\b\b\b\b\b\b\b\b\b\b\b\b\b\b\b\b\n",
            "Epoch 81/100\n",
            "5/5 [==============================] - 0s 53ms/step - loss: 0.5266 - val_loss: 0.5519\b\b\b\b\b\b\b\b\b\b\b\b\b\b\b\b\b\b\b\b\b\b\b\b\b\b\b\b\b\b\b\b\b\b\b\b\b\n",
            "Epoch 82/100\n",
            "5/5 [==============================] - 0s 58ms/step - loss: 0.5696 - val_loss: 0.5491\b\b\b\b\b\b\b\b\b\b\b\b\b\b\b\b\b\b\b\b\b\b\b\b\b\b\b\b\b\b\b\b\b\b\b\b\b\n",
            "Epoch 83/100\n",
            "5/5 [==============================] - 0s 57ms/step - loss: 0.5149 - val_loss: 0.5224\b\b\b\b\b\b\b\b\b\b\b\b\b\b\b\b\b\b\b\b\b\b\b\b\b\b\b\b\b\b\b\b\b\b\b\b\b\n",
            "Epoch 84/100\n",
            "5/5 [==============================] - 0s 54ms/step - loss: 0.5569 - val_loss: 0.5296\b\b\b\b\b\b\b\b\b\b\b\b\b\b\b\b\b\b\b\b\b\b\b\b\b\b\b\b\b\b\b\b\b\b\b\b\b\n",
            "Epoch 85/100\n",
            "5/5 [==============================] - 0s 52ms/step - loss: 0.5171 - val_loss: 0.5360\b\b\b\b\b\b\b\b\b\b\b\b\b\b\b\b\b\b\b\b\b\b\b\b\b\b\b\b\b\b\b\b\b\b\b\b\b\n",
            "Epoch 86/100\n",
            "5/5 [==============================] - 0s 59ms/step - loss: 0.5205 - val_loss: 0.5681\b\b\b\b\b\b\b\b\b\b\b\b\b\b\b\b\b\b\b\b\b\b\b\b\b\b\b\b\b\b\b\b\b\b\b\b\b\n",
            "Epoch 87/100\n",
            "5/5 [==============================] - 0s 51ms/step - loss: 0.5278 - val_loss: 0.5516\b\b\b\b\b\b\b\b\b\b\b\b\b\b\b\b\b\b\b\b\b\b\b\b\b\b\b\b\b\b\b\b\b\b\b\b\b\n",
            "Epoch 88/100\n",
            "5/5 [==============================] - 0s 49ms/step - loss: 0.5458 - val_loss: 0.5401\b\b\b\b\b\b\b\b\b\b\b\b\b\b\b\b\b\b\b\b\b\b\b\b\b\b\b\b\b\b\b\b\b\b\b\b\b\n",
            "Epoch 89/100\n",
            "5/5 [==============================] - 0s 52ms/step - loss: 0.5397 - val_loss: 0.5505\b\b\b\b\b\b\b\b\b\b\b\b\b\b\b\b\b\b\b\b\b\b\b\b\b\b\b\b\b\b\b\b\b\b\b\b\b\n",
            "Epoch 90/100\n",
            "5/5 [==============================] - 0s 47ms/step - loss: 0.5321 - val_loss: 0.5832\b\b\b\b\b\b\b\b\b\b\b\b\b\b\b\b\b\b\b\b\b\b\b\b\b\b\b\b\b\b\b\b\b\b\b\b\b\n",
            "Epoch 91/100\n",
            "5/5 [==============================] - 0s 52ms/step - loss: 0.5253 - val_loss: 0.5654\b\b\b\b\b\b\b\b\b\b\b\b\b\b\b\b\b\b\b\b\b\b\b\b\b\b\b\b\b\b\b\b\b\b\b\b\b\n",
            "Epoch 92/100\n",
            "5/5 [==============================] - 0s 50ms/step - loss: 0.5385 - val_loss: 0.5689\b\b\b\b\b\b\b\b\b\b\b\b\b\b\b\b\b\b\b\b\b\b\b\b\b\b\b\b\b\b\b\b\b\b\b\b\b\n",
            "Epoch 93/100\n",
            "5/5 [==============================] - 0s 50ms/step - loss: 0.5774 - val_loss: 0.5466\b\b\b\b\b\b\b\b\b\b\b\b\b\b\b\b\b\b\b\b\b\b\b\b\b\b\b\b\b\b\b\b\b\b\b\b\b\n",
            "Epoch 94/100\n",
            "5/5 [==============================] - 0s 51ms/step - loss: 0.5320 - val_loss: 0.5547\b\b\b\b\b\b\b\b\b\b\b\b\b\b\b\b\b\b\b\b\b\b\b\b\b\b\b\b\b\b\b\b\b\b\b\b\b\n",
            "Epoch 95/100\n",
            "5/5 [==============================] - 0s 55ms/step - loss: 0.5510 - val_loss: 0.5680\b\b\b\b\b\b\b\b\b\b\b\b\b\b\b\b\b\b\b\b\b\b\b\b\b\b\b\b\b\b\b\b\b\b\b\b\b\n",
            "Epoch 96/100\n",
            "5/5 [==============================] - 0s 55ms/step - loss: 0.5348 - val_loss: 0.5608\b\b\b\b\b\b\b\b\b\b\b\b\b\b\b\b\b\b\b\b\b\b\b\b\b\b\b\b\b\b\b\b\b\b\b\b\b\n",
            "Epoch 97/100\n",
            "5/5 [==============================] - 0s 56ms/step - loss: 0.5147 - val_loss: 0.5303\b\b\b\b\b\b\b\b\b\b\b\b\b\b\b\b\b\b\b\b\b\b\b\b\b\b\b\b\b\b\b\b\b\b\b\b\b\n",
            "Epoch 98/100\n",
            "5/5 [==============================] - 0s 50ms/step - loss: 0.5318 - val_loss: 0.5254\b\b\b\b\b\b\b\b\b\b\b\b\b\b\b\b\b\b\b\b\b\b\b\b\b\b\b\b\b\b\b\b\b\b\b\b\b\n",
            "Epoch 99/100\n",
            "5/5 [==============================] - 0s 47ms/step - loss: 0.5397 - val_loss: 0.5740\b\b\b\b\b\b\b\b\b\b\b\b\b\b\b\b\b\b\b\b\b\b\b\b\b\b\b\b\b\b\b\b\b\b\b\b\b\n",
            "Epoch 100/100\n",
            "5/5 [==============================] - 0s 49ms/step - loss: 0.5737 - val_loss: 0.5813\b\b\b\b\b\b\b\b\b\b\b\b\b\b\b\b\b\b\b\b\b\b\b\b\b\b\b\b\b\b\b\b\b\b\b\b\b\n"
          ]
        },
        {
          "output_type": "display_data",
          "data": {
            "text/plain": "<Figure size 432x288 with 1 Axes>",
            "image/png": "[encoded data removed]"
          },
          "metadata": {}
        }
      ],
      "execution_count": 6,
      "metadata": {
        "execution": {
          "iopub.execute_input": "2020-12-31T05:09:02.406Z",
          "iopub.status.busy": "2020-12-31T05:09:02.399Z",
          "iopub.status.idle": "2020-12-31T05:09:35.452Z",
          "shell.execute_reply": "2020-12-31T05:09:35.373Z"
        },
        "papermill": {
          "duration": 31.16237,
          "end_time": "2020-10-20T20:58:04.401796",
          "exception": false,
          "start_time": "2020-10-20T20:57:33.239426",
          "status": "completed"
        },
        "tags": []
      }
    },
    {
      "cell_type": "markdown",
      "source": [
        "You'll typically get better performance if you standardize your data before using it for training. That we were able to use the raw data at all, however, shows how effective batch normalization can be on more difficult datasets.\n",
        "\n",
        "# Your Turn #\n",
        "\n",
        "Move on to [**improve predictions**](https://www.kaggle.com/kernels/fork/11887342) on the *Spotify* dataset with dropout and see how batch normalization can help with difficult datasets."
      ],
      "metadata": {
        "papermill": {
          "duration": 0.007939,
          "end_time": "2020-10-20T20:58:04.418037",
          "exception": false,
          "start_time": "2020-10-20T20:58:04.410098",
          "status": "completed"
        },
        "tags": []
      }
    },
    {
      "cell_type": "markdown",
      "source": [
        "---\n",
        "\n",
        "\n",
        "\n",
        "\n",
        "*Have questions or comments? Visit the [Learn Discussion forum](https://www.kaggle.com/learn-forum/191966) to chat with other Learners.*"
      ],
      "metadata": {
        "papermill": {
          "duration": 0.00786,
          "end_time": "2020-10-20T20:58:04.434323",
          "exception": false,
          "start_time": "2020-10-20T20:58:04.426463",
          "status": "completed"
        },
        "tags": []
      }
    }
  ],
  "metadata": {
    "jupytext": {
      "cell_metadata_filter": "-all",
      "formats": "ipynb"
    },
    "kernelspec": {
      "display_name": "Python 3",
      "language": "python",
      "name": "python3"
    },
    "language_info": {
      "name": "python",
      "version": "3.6.8",
      "mimetype": "text/x-python",
      "codemirror_mode": {
        "name": "ipython",
        "version": 3
      },
      "pygments_lexer": "ipython3",
      "nbconvert_exporter": "python",
      "file_extension": ".py"
    },
    "papermill": {
      "output_path": "__notebook__.ipynb",
      "start_time": "2020-10-20T20:57:22.376611",
      "parameters": {},
      "environment_variables": {},
      "exception": null,
      "end_time": "2020-10-20T20:58:04.550580",
      "duration": 42.173969,
      "version": "2.1.0",
      "input_path": "__notebook__.ipynb"
    },
    "nteract": {
      "version": "0.27.0"
    }
  },
  "nbformat": 4,
  "nbformat_minor": 4
}