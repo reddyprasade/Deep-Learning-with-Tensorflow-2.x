{
 "cells": [
  {
   "cell_type": "markdown",
   "metadata": {
    "_uuid": "44bec6fc0ae6897e5e77d7c0b87acdd3408a5c2d"
   },
   "source": [
    "# Activation Functions"
   ]
  },
  {
   "cell_type": "code",
   "execution_count": 1,
   "metadata": {
    "_cell_guid": "b1076dfc-b9ad-4769-8c92-a6c4dae69d19",
    "_uuid": "8f2839f25d086af736a60e9eeb907d3b93b6e0e5"
   },
   "outputs": [],
   "source": [
    "import numpy as np\n",
    "import matplotlib.pyplot as plt\n",
    "%matplotlib inline"
   ]
  },
  {
   "cell_type": "code",
   "execution_count": 2,
   "metadata": {
    "_cell_guid": "79c7e3d0-c299-4dcb-8224-4455121ee9b0",
    "_uuid": "d629ff2d2480ee46fbb7e2d37f6b5fab8052498a"
   },
   "outputs": [],
   "source": [
    "x = np.arange(-5, 5, 0.01)"
   ]
  },
  {
   "cell_type": "code",
   "execution_count": 3,
   "metadata": {
    "_uuid": "b66cd72ea4e74f5f6096902c6568a0132a53e42d"
   },
   "outputs": [],
   "source": [
    "def plot(func, yaxis=(-1.4, 1.4)):\n",
    "    plt.ylim(yaxis)\n",
    "    plt.locator_params(nbins=5)\n",
    "    plt.xticks(fontsize = 14)\n",
    "    plt.yticks(fontsize = 14)\n",
    "    plt.axhline(lw=1, c='black')\n",
    "    plt.axvline(lw=1, c='black')\n",
    "    plt.grid(alpha=0.4, ls='-.')\n",
    "    plt.box(on=None)\n",
    "    plt.plot(x, func(x), c='r', lw=3)"
   ]
  },
  {
   "cell_type": "markdown",
   "metadata": {
    "_uuid": "14ab20d93a6fa71c49ec439603c2866c2450b9cd"
   },
   "source": [
    "## Binary Step"
   ]
  },
  {
   "cell_type": "markdown",
   "metadata": {
    "_uuid": "5b56b30520772f61b534662fbc598026fc37d8a8"
   },
   "source": [
    "$$\n",
    "f(x) = \\left\\{\n",
    "        \\begin{array}{lll}\n",
    "            0 & for & x \\leq 0  \\\\\n",
    "            1 & for & x > 0\n",
    "        \\end{array}\n",
    "    \\right.\n",
    "$$"
   ]
  },
  {
   "cell_type": "markdown",
   "metadata": {
    "_uuid": "359a130a11890e8d8fbfdbea9f75be8f1c61dfdf"
   },
   "source": [
    "$$\n",
    "f'(x) = \\left\\{\n",
    "        \\begin{array}{lll}\n",
    "            0 & for & x \\neq 0  \\\\\n",
    "            ? & for & x = 0\n",
    "        \\end{array}\n",
    "    \\right.\n",
    "$$"
   ]
  },
  {
   "cell_type": "code",
   "execution_count": 4,
   "metadata": {
    "_uuid": "fb34b755cf00e498cb7bbdbfb9c80433b104e928"
   },
   "outputs": [],
   "source": [
    "binary_step = np.vectorize(lambda x: 1 if x > 0 else 0, otypes=[np.float])"
   ]
  },
  {
   "cell_type": "code",
   "execution_count": 5,
   "metadata": {
    "_uuid": "67af87a1417065c395ea2be8c0c681f56e03cb4b"
   },
   "outputs": [
    {
     "data": {
      "image/png": "[encoded data removed]",
      "text/plain": [
       "<Figure size 432x288 with 1 Axes>"
      ]
     },
     "metadata": {
      "needs_background": "light"
     },
     "output_type": "display_data"
    }
   ],
   "source": [
    "plot(binary_step, yaxis=(-0.4, 1.4))"
   ]
  },
  {
   "cell_type": "markdown",
   "metadata": {
    "_uuid": "008b3ae087f66a8dd2905fcc7b99bccadc9a6868"
   },
   "source": [
    "## Piecewise Linear"
   ]
  },
  {
   "cell_type": "markdown",
   "metadata": {
    "_uuid": "4b13aa28eca7525771347cd196ad2afbef640436"
   },
   "source": [
    "$$\n",
    "f(x) = \\left\\{\n",
    "        \\begin{array}{lll}\n",
    "            0 & for & x < x_{min} \\\\\n",
    "            mx+b & for & x_{min} \\leq x \\leq x_{max}  \\\\\n",
    "            1 & for & x > x_{max}\n",
    "        \\end{array}\n",
    "    \\right.\n",
    "$$"
   ]
  },
  {
   "cell_type": "markdown",
   "metadata": {
    "_uuid": "f5548fecb3773affb2283dfd5d4e01878549f766"
   },
   "source": [
    "$$\n",
    "f'(x) = \\left\\{\n",
    "        \\begin{array}{lll}\n",
    "            0 & for & x < x_{min} \\\\\n",
    "            m & for & x_{min} \\leq x \\leq x_{max}  \\\\\n",
    "            0 & for & x > x_{max}\n",
    "        \\end{array}\n",
    "    \\right.\n",
    "$$"
   ]
  },
  {
   "cell_type": "code",
   "execution_count": 6,
   "metadata": {
    "_uuid": "5bc041d04ec481d6637ad564f262d549566ea1ff"
   },
   "outputs": [],
   "source": [
    "piecewise_linear = np.vectorize(lambda x: 1 if x > 3 else 0 if x < -3 else 1/6*x+1/2, otypes=[np.float])"
   ]
  },
  {
   "cell_type": "code",
   "execution_count": 7,
   "metadata": {
    "_uuid": "5d7d91bd0018b5fe9e852f3a6d1106c5a1213aee"
   },
   "outputs": [
    {
     "data": {
      "image/png": "[encoded data removed]",
      "text/plain": [
       "<Figure size 432x288 with 1 Axes>"
      ]
     },
     "metadata": {
      "needs_background": "light"
     },
     "output_type": "display_data"
    }
   ],
   "source": [
    "plot(piecewise_linear, yaxis=(-0.4, 1.4))"
   ]
  },
  {
   "cell_type": "markdown",
   "metadata": {
    "_uuid": "02afb0f5b4b4b3bcc09333671184ca34a212353f"
   },
   "source": [
    "## Bipolar"
   ]
  },
  {
   "cell_type": "markdown",
   "metadata": {
    "_uuid": "5e5fe06727c3b06ca7e3466ba99ef9fa5fc09f04"
   },
   "source": [
    "$$\n",
    "f(x) = \\left\\{\n",
    "        \\begin{array}{lll}\n",
    "            -1 & for & x \\leq 0  \\\\\n",
    "            1 & for & x > 0\n",
    "        \\end{array}\n",
    "    \\right.\n",
    "$$"
   ]
  },
  {
   "cell_type": "markdown",
   "metadata": {
    "_uuid": "73352f63b7c837dca9ede7c3b259d0e31978a279"
   },
   "source": [
    "$$\n",
    "f'(x) = \\left\\{\n",
    "        \\begin{array}{lll}\n",
    "            0 & for & x \\neq 0  \\\\\n",
    "            ? & for & x = 0\n",
    "        \\end{array}\n",
    "    \\right.\n",
    "$$"
   ]
  },
  {
   "cell_type": "code",
   "execution_count": 8,
   "metadata": {
    "_uuid": "e40deed8720e7b550a790d31861e04310f7c4eec"
   },
   "outputs": [],
   "source": [
    "bipolar = np.vectorize(lambda x: 1 if x > 0 else -1, otypes=[np.float])"
   ]
  },
  {
   "cell_type": "code",
   "execution_count": 9,
   "metadata": {
    "_uuid": "6cf487c5f594e485d6e4ab83c86561349cf7aba1"
   },
   "outputs": [
    {
     "data": {
      "image/png": "[encoded data removed]",
      "text/plain": [
       "<Figure size 432x288 with 1 Axes>"
      ]
     },
     "metadata": {
      "needs_background": "light"
     },
     "output_type": "display_data"
    }
   ],
   "source": [
    "plot(bipolar)"
   ]
  },
  {
   "cell_type": "markdown",
   "metadata": {
    "_uuid": "cd4111b7db0206ed59bfb1ac2a202fc374d9c650"
   },
   "source": [
    "## Sigmoid"
   ]
  },
  {
   "cell_type": "markdown",
   "metadata": {
    "_uuid": "aa635cc66d20e4066514b27266ff5a8a76737906"
   },
   "source": [
    "$$\n",
    "f(x)={\\frac {1}{1+e^{-x}}}\n",
    "$$"
   ]
  },
  {
   "cell_type": "markdown",
   "metadata": {
    "_uuid": "e4e3ad2554c2a0e7918dd1b4c6e937ea3393fca5"
   },
   "source": [
    "$$\n",
    "f'(x)=f(x)(1-f(x))\n",
    "$$"
   ]
  },
  {
   "cell_type": "code",
   "execution_count": 10,
   "metadata": {
    "_uuid": "395f00217cb656b68fbec07c1e5f39eb3b73f0ac"
   },
   "outputs": [],
   "source": [
    "def sigmoid(x):\n",
    "    return 1 / (1 + np.exp(-x))"
   ]
  },
  {
   "cell_type": "code",
   "execution_count": 11,
   "metadata": {
    "_uuid": "700ddb02904dd24574c15df84cadf0e941efaf3e"
   },
   "outputs": [
    {
     "data": {
      "image/png": "[encoded data removed]",
      "text/plain": [
       "<Figure size 432x288 with 1 Axes>"
      ]
     },
     "metadata": {
      "needs_background": "light"
     },
     "output_type": "display_data"
    }
   ],
   "source": [
    "plot(sigmoid, yaxis=(-0.4, 1.4))"
   ]
  },
  {
   "cell_type": "markdown",
   "metadata": {
    "_uuid": "94d6d7e69bcc04172474bb0d979eb74f17ce9244"
   },
   "source": [
    "## Bipolar Sigmoid"
   ]
  },
  {
   "cell_type": "markdown",
   "metadata": {
    "_uuid": "aed8e9dc1a5be77403852138058356841145dc0e"
   },
   "source": [
    "$$\n",
    "f(x)={\\frac {1-e^{-x}}{1+e^{-x}}}\n",
    "$$"
   ]
  },
  {
   "cell_type": "markdown",
   "metadata": {
    "_uuid": "e7e7cde977751af8aec7cbd306a72872d5a549d1"
   },
   "source": [
    "$$\n",
    "f'(x)={\\frac {2e^x}{(e^x+1)^2}}\n",
    "$$"
   ]
  },
  {
   "cell_type": "code",
   "execution_count": 12,
   "metadata": {
    "_uuid": "71f4e10179e6efb6b3cf7637b16b9c4d45a55bb5"
   },
   "outputs": [],
   "source": [
    "def bipolar_sigmoid(x):\n",
    "    return (1 - np.exp(-x)) / (1 + np.exp(-x))"
   ]
  },
  {
   "cell_type": "code",
   "execution_count": 13,
   "metadata": {
    "_uuid": "2c0ad5db45be9697ec3018a1af6521f4799c6934"
   },
   "outputs": [
    {
     "data": {
      "image/png": "[encoded data removed]",
      "text/plain": [
       "<Figure size 432x288 with 1 Axes>"
      ]
     },
     "metadata": {
      "needs_background": "light"
     },
     "output_type": "display_data"
    }
   ],
   "source": [
    "plot(bipolar_sigmoid)"
   ]
  },
  {
   "cell_type": "markdown",
   "metadata": {
    "_uuid": "e0baddc9978fab190e0c0128777e102b6f96e4f6"
   },
   "source": [
    "## Hyperbolic Tangent, TanH"
   ]
  },
  {
   "cell_type": "markdown",
   "metadata": {
    "_uuid": "e6c223e36680aba28be237597871421ec67bbc25"
   },
   "source": [
    "$$\n",
    "f(x)={\\frac {2}{1+e^{-2x}}}-1\n",
    "$$"
   ]
  },
  {
   "cell_type": "markdown",
   "metadata": {
    "_uuid": "6ee4c788ba6584c671c4c7b7e03d30457ca7c99b"
   },
   "source": [
    "$$\n",
    "f'(x)=1-f(x)^2\n",
    "$$"
   ]
  },
  {
   "cell_type": "code",
   "execution_count": 14,
   "metadata": {
    "_uuid": "3f11ce87358a102d5b8262065765a3ba7923473c"
   },
   "outputs": [],
   "source": [
    "def tanh(x):\n",
    "    return 2 / (1 + np.exp(-2 * x)) -1"
   ]
  },
  {
   "cell_type": "code",
   "execution_count": 15,
   "metadata": {
    "_uuid": "a0ec8061991d1336bee237233e4ca44992713b8e"
   },
   "outputs": [
    {
     "data": {
      "image/png": "[encoded data removed]",
      "text/plain": [
       "<Figure size 432x288 with 1 Axes>"
      ]
     },
     "metadata": {
      "needs_background": "light"
     },
     "output_type": "display_data"
    }
   ],
   "source": [
    "plot(tanh)"
   ]
  },
  {
   "cell_type": "markdown",
   "metadata": {
    "_uuid": "6e1ebda6364a21e916b7e22ab12b862d5063533d"
   },
   "source": [
    "## Arctangent, ArcTan"
   ]
  },
  {
   "cell_type": "markdown",
   "metadata": {
    "_uuid": "04a669c6c8a65d2bede0e718300796af868a4b8e"
   },
   "source": [
    "$$\n",
    "f(x)=tan^{-1}(x)\n",
    "$$"
   ]
  },
  {
   "cell_type": "markdown",
   "metadata": {
    "_uuid": "b64948bc02cd9fccb25447c61bf4722b061a773c"
   },
   "source": [
    "$$\n",
    "f'(x)={\\frac {1}{1+x^2}}\n",
    "$$"
   ]
  },
  {
   "cell_type": "code",
   "execution_count": 16,
   "metadata": {
    "_uuid": "c2c1d7598dce08fbf4ffdd202ca72b9cedeb755b"
   },
   "outputs": [],
   "source": [
    "def arctan(x):\n",
    "    return np.arctan(x)"
   ]
  },
  {
   "cell_type": "code",
   "execution_count": 17,
   "metadata": {
    "_uuid": "15b8719854c695ffbab5f6d097cbc6f39c9d23e0"
   },
   "outputs": [
    {
     "data": {
      "image/png": "[encoded data removed]",
      "text/plain": [
       "<Figure size 432x288 with 1 Axes>"
      ]
     },
     "metadata": {
      "needs_background": "light"
     },
     "output_type": "display_data"
    }
   ],
   "source": [
    "plot(arctan)"
   ]
  },
  {
   "cell_type": "markdown",
   "metadata": {
    "_uuid": "ba003e7395d8be19c1f889e58906027aaad0dde9"
   },
   "source": [
    "## Rectified Linear Units, ReLU"
   ]
  },
  {
   "cell_type": "markdown",
   "metadata": {
    "_uuid": "7d18b3e3adbbbae48db9bdddb20c78d6b867a307"
   },
   "source": [
    "$$\n",
    "f(x) = \\left\\{\n",
    "        \\begin{array}{lll}\n",
    "            0 & for & x \\leq 0  \\\\\n",
    "            x & for & x > 0\n",
    "        \\end{array}\n",
    "    \\right.\n",
    "$$"
   ]
  },
  {
   "cell_type": "markdown",
   "metadata": {
    "_uuid": "54c15bd8a2ca8a89352649a8d6c85d63864be5cd"
   },
   "source": [
    "$$\n",
    "f'(x) = \\left\\{\n",
    "        \\begin{array}{lll}\n",
    "            0 & for & x \\leq 0  \\\\\n",
    "            1 & for & x > 0\n",
    "        \\end{array}\n",
    "    \\right.\n",
    "$$"
   ]
  },
  {
   "cell_type": "code",
   "execution_count": 18,
   "metadata": {
    "_uuid": "e6b06e66ecdfb0783a4f76c1fdadc8f89baa07e2"
   },
   "outputs": [],
   "source": [
    "relu = np.vectorize(lambda x: x if x > 0 else 0, otypes=[np.float])"
   ]
  },
  {
   "cell_type": "code",
   "execution_count": 19,
   "metadata": {
    "_uuid": "fc61104a51d6d377d94c88acde65291bc5deb528"
   },
   "outputs": [
    {
     "data": {
      "image/png": "[encoded data removed]",
      "text/plain": [
       "<Figure size 432x288 with 1 Axes>"
      ]
     },
     "metadata": {
      "needs_background": "light"
     },
     "output_type": "display_data"
    }
   ],
   "source": [
    "plot(relu, yaxis=(-0.4, 1.4))"
   ]
  },
  {
   "cell_type": "markdown",
   "metadata": {
    "_uuid": "f1600b82b7e0a9de884dceee7cca07bc68daeeed"
   },
   "source": [
    "## Leaky Rectified Linear Units, Leaky ReLU"
   ]
  },
  {
   "cell_type": "markdown",
   "metadata": {
    "_uuid": "d2885900c976895801df53980e0373d313f021f8"
   },
   "source": [
    "$$\n",
    "f(x) = \\left\\{\n",
    "        \\begin{array}{lll}\n",
    "            ax & for & x \\leq 0  \\\\\n",
    "            x & for & x > 0\n",
    "        \\end{array}\n",
    "    \\right.\n",
    "$$"
   ]
  },
  {
   "cell_type": "markdown",
   "metadata": {
    "_uuid": "242f6b2d36bb366104b38bed22d7083c940d1333"
   },
   "source": [
    "$$\n",
    "f'(x) = \\left\\{\n",
    "        \\begin{array}{lll}\n",
    "            a & for & x \\leq 0  \\\\\n",
    "            1 & for & x > 0\n",
    "        \\end{array}\n",
    "    \\right.\n",
    "$$"
   ]
  },
  {
   "cell_type": "code",
   "execution_count": 20,
   "metadata": {
    "_uuid": "d87cfb3ac6d8d14fda987e4b0c2b0595aee8a741"
   },
   "outputs": [],
   "source": [
    "leaky_relu = np.vectorize(lambda x: max(0.1 * x, x), otypes=[np.float])"
   ]
  },
  {
   "cell_type": "code",
   "execution_count": 21,
   "metadata": {
    "_uuid": "b236fc3f938332496fdd43bed9999a141883bf11"
   },
   "outputs": [
    {
     "data": {
      "image/png": "[encoded data removed]",
      "text/plain": [
       "<Figure size 432x288 with 1 Axes>"
      ]
     },
     "metadata": {
      "needs_background": "light"
     },
     "output_type": "display_data"
    }
   ],
   "source": [
    "plot(leaky_relu)"
   ]
  },
  {
   "cell_type": "markdown",
   "metadata": {
    "_uuid": "722f6877a86d05aabe8c66f0161923aa1c8e1b6e"
   },
   "source": [
    "Parametric ReLU is similar to Leaky ReLU but coefficient of leakage is learned as parameter of neural network"
   ]
  },
  {
   "cell_type": "markdown",
   "metadata": {
    "_uuid": "7bab06f3259679ad4926d6da3916033801b3905c"
   },
   "source": [
    "## Exponential Linear Units, ELU"
   ]
  },
  {
   "cell_type": "markdown",
   "metadata": {
    "_uuid": "8147f4470af29ea9c7e48183d3dbba57d17e1e55"
   },
   "source": [
    "$$\n",
    "f(x) = \\left\\{\n",
    "        \\begin{array}{lll}\n",
    "            a(e^x-1) & for & x \\leq 0  \\\\\n",
    "            x & for & x > 0\n",
    "        \\end{array}\n",
    "    \\right.\n",
    "$$"
   ]
  },
  {
   "cell_type": "markdown",
   "metadata": {
    "_uuid": "4349d61123cfbc1ecedd7379daa78f440ff8b6ae"
   },
   "source": [
    "$$\n",
    "f'(x) = \\left\\{\n",
    "        \\begin{array}{lll}\n",
    "            f(x)+a & for & x \\leq 0  \\\\\n",
    "            1 & for & x > 0\n",
    "        \\end{array}\n",
    "    \\right.\n",
    "$$"
   ]
  },
  {
   "cell_type": "code",
   "execution_count": 22,
   "metadata": {
    "_uuid": "89b58a92defc632cf079f7cb41b372c8ee03e66f"
   },
   "outputs": [],
   "source": [
    "elu = np.vectorize(lambda x: x if x > 0 else 0.5 * (np.exp(x) - 1), otypes=[np.float])"
   ]
  },
  {
   "cell_type": "code",
   "execution_count": 23,
   "metadata": {
    "_uuid": "c110a4594086704de99a4a0d25c9347802741a69"
   },
   "outputs": [
    {
     "data": {
      "image/png": "[encoded data removed]",
      "text/plain": [
       "<Figure size 432x288 with 1 Axes>"
      ]
     },
     "metadata": {
      "needs_background": "light"
     },
     "output_type": "display_data"
    }
   ],
   "source": [
    "plot(elu)"
   ]
  },
  {
   "cell_type": "markdown",
   "metadata": {
    "_uuid": "b34ea4e4dbbb96669824476fdd250ac0370a7dce"
   },
   "source": [
    "## SoftPlus"
   ]
  },
  {
   "cell_type": "markdown",
   "metadata": {
    "_uuid": "2c662baae323c1e4e5f3d5a802bb84e249164d8b"
   },
   "source": [
    "$$\n",
    "f(x)=ln(1+e^x)\n",
    "$$"
   ]
  },
  {
   "cell_type": "markdown",
   "metadata": {
    "_uuid": "4ca6078e2b579ad81b1f6c21f0b076823115b2aa"
   },
   "source": [
    "$$\n",
    "f'(x)={\\frac {1}{1+e^{-x}}}\n",
    "$$"
   ]
  },
  {
   "cell_type": "code",
   "execution_count": 44,
   "metadata": {
    "_uuid": "c56c92af219d4b7c252ae35379ba156b950a1741",
    "collapsed": true,
    "jupyter": {
     "outputs_hidden": true
    }
   },
   "outputs": [],
   "source": [
    "def softplus(x):\n",
    "    return np.log(1+np.exp(x))"
   ]
  },
  {
   "cell_type": "code",
   "execution_count": 45,
   "metadata": {
    "_uuid": "4f8283e8f54d8fdc254585f2e85f3733f21eddd1"
   },
   "outputs": [],
   "source": [
    "plot(softplus, yaxis=(-0.4, 1.4))"
   ]
  }
 ],
 "metadata": {
  "kernelspec": {
   "display_name": "Python 3",
   "language": "python",
   "name": "python3"
  },
  "language_info": {
   "codemirror_mode": {
    "name": "ipython",
    "version": 3
   },
   "file_extension": ".py",
   "mimetype": "text/x-python",
   "name": "python",
   "nbconvert_exporter": "python",
   "pygments_lexer": "ipython3",
   "version": "3.6.8"
  }
 },
 "nbformat": 4,
 "nbformat_minor": 4
}
