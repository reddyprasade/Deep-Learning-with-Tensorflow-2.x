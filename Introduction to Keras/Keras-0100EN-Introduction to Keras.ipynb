{
 "cells": [
  {
   "cell_type": "markdown",
   "metadata": {},
   "source": [
    "#### Keras API  are Classify into three parts:\n",
    "1. Models API\n",
    "2. Layers API\n",
    "3. Callbacks API"
   ]
  },
  {
   "cell_type": "code",
   "execution_count": 1,
   "metadata": {},
   "outputs": [],
   "source": [
    "from tensorflow import keras as ke"
   ]
  },
  {
   "cell_type": "code",
   "execution_count": 2,
   "metadata": {},
   "outputs": [],
   "source": [
    "from tensorflow import keras"
   ]
  },
  {
   "cell_type": "markdown",
   "metadata": {},
   "source": [
    "1. **Models API:**\n",
    "     * It is Used to Build a Neural Network Model(Regression and Classification)\n",
    "     * There are three ways to create Keras models:\n",
    "         * **[Sequential model](Keras-0101EN-Sequential Model API.ipynb)**\n",
    "             * The Sequential model, which is very straightforward (a simple list of layers.\n",
    "             * But we have limited to single-input, single-output stacks of layers (as the name gives away).\n",
    "             * Eg :\n",
    "                 * Input(So many Features) and Output(One Target(Numerical)) \n",
    "         * **Functional API:**\n",
    "              * The Functional API, which is an easy-to-use.\n",
    "              * This Funcational API can use in fully-featured API that supports arbitrary model architectures.\n",
    "              * For most people and most use cases, this is what you should be using. This is the Keras \"industry strength\" model.\n",
    "         * **Model subclassing:**\n",
    "             * Model subclassing, where you implement everything from scratch on your own(Function,Class and object)\n",
    "             * Use this if you have complex, out-of-the-box research use cases.\n",
    "2. **Layers API:**\n",
    "    * Layers are the basic building blocks of neural networks in Keras\n",
    "    "
   ]
  },
  {
   "cell_type": "markdown",
   "metadata": {},
   "source": [
    "#### Keras Data Preprocessing\n",
    "1. Image data preprocessing\n",
    "2. Timeseries data preprocessing\n",
    "3. Text data preprocessing"
   ]
  },
  {
   "cell_type": "markdown",
   "metadata": {},
   "source": [
    "#### Keras Optimizers\n",
    "1. SGD\n",
    "2. RMSprop\n",
    "3. Adam\n",
    "4. Adadelta\n",
    "5. Adagrad\n",
    "6. Adamax\n",
    "7. Nadam\n",
    "8. Ftrl"
   ]
  },
  {
   "cell_type": "markdown",
   "metadata": {},
   "source": [
    "#### Metrics\n",
    "1. Accuracy metrics\n",
    "2. Probabilistic metrics\n",
    "3. Regression metrics\n",
    "4. Classification metrics based on True/False positives & negatives\n",
    "5. Image segmentation metrics\n",
    "6. Hinge metrics for \"maximum-margin\" classification"
   ]
  },
  {
   "cell_type": "markdown",
   "metadata": {},
   "source": [
    "#### Keras Applications\n",
    "1. Xception\n",
    "2. EfficientNet B0 to B7\n",
    "3. VGG16 and VGG19\n",
    "4. ResNet and ResNetV2\n",
    "5. MobileNet and MobileNetV2\n",
    "6. DenseNet\n",
    "7. NasNetLarge and NasNetMobile\n",
    "8. InceptionV3\n",
    "9. InceptionResNetV2"
   ]
  },
  {
   "cell_type": "markdown",
   "metadata": {},
   "source": [
    "#### Losses\n",
    "1. Probabilistic losses\n",
    "2. Regression losses\n",
    "3. Hinge losses for \"maximum-margin\" classification\n",
    "\n",
    "\n",
    "#### Built-in small datasets\n",
    "1. MNIST digits classification dataset\n",
    "2. CIFAR10 small images classification dataset\n",
    "3. CIFAR100 small images classification dataset\n",
    "4. IMDB movie review sentiment classification dataset\n",
    "5. Reuters newswire classification dataset\n",
    "6. Fashion MNIST dataset, an alternative to MNIST\n",
    "7. Boston Housing price regression dataset"
   ]
  }
 ],
 "metadata": {
  "kernelspec": {
   "display_name": "Python 3",
   "language": "python",
   "name": "python3"
  },
  "language_info": {
   "codemirror_mode": {
    "name": "ipython",
    "version": 3
   },
   "file_extension": ".py",
   "mimetype": "text/x-python",
   "name": "python",
   "nbconvert_exporter": "python",
   "pygments_lexer": "ipython3",
   "version": "3.6.8"
  }
 },
 "nbformat": 4,
 "nbformat_minor": 4
}
