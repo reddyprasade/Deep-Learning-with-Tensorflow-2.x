{
 "cells": [
  {
   "cell_type": "markdown",
   "metadata": {},
   "source": [
    "## **Functional API:**\n",
    "       * The Functional API, which is an easy-to-use.\n",
    "       * This Funcational API can use in fully-featured API that supports arbitrary model architectures.\n",
    "       * For most people and most use cases, this is what you should be using. This is the Keras \"industry strength\" model."
   ]
  },
  {
   "cell_type": "markdown",
   "metadata": {},
   "source": [
    "|**Model architectures**|**User DataSet**|**Application**|\n",
    "|-------------------|------------|----------|\n",
    "|RNN (Recurrent neural networks)| Voice,Image,Text|Speech recognition, handwriting recognition,Translations |\n",
    "|LSTM/GRU networks|Text, Image|Natural language text compression, handwriting recognition, speech recognition, gesture recognition, image captioning|\n",
    "|CNN|Image Text(light)|Image recognition, video analysis, natural language processing|\n",
    "|DBN|image, Text|Image recognition, information retrieval, natural language understanding, failure prediction|\n",
    "|DSN|Audio|Information retrieval, continuous speech recognition|"
   ]
  },
  {
   "cell_type": "markdown",
   "metadata": {},
   "source": [
    "* The Keras functional API is a way to create models that are more flexible than the `tf.keras.Sequential` API.\n",
    "* The functional API can handle models with non-linear topology, shared layers, and even multiple inputs(Feature) or outputs(Target) Classifications.\n",
    "* The main idea is that a deep learning model is usually a directed acyclic graph (DAG) of layer.\n",
    "* So the functional API is a way to build graphs of layers.\n"
   ]
  },
  {
   "cell_type": "raw",
   "metadata": {},
   "source": [
    "### Consider the following model:\n",
    "\n",
    "# Image size of 28*28\n",
    "(input:784-dimensional Vector)\n",
    "        |\n",
    "[Dense:(64 unit relu activation)]\n",
    "\n",
    "        |  \n",
    "\n",
    "[Dense:(64 unit relu activation)] \n",
    "        |\n",
    "\n",
    "[Dense:(10 unit relu activation)]\n",
    "        |\n",
    "\n",
    "(output Should be 10 Class (Target))"
   ]
  },
  {
   "cell_type": "code",
   "execution_count": null,
   "metadata": {},
   "outputs": [],
   "source": [
    "import numpy as np\n",
    "import tensorflow as tf\n",
    "from tensorflow import keras\n",
    "from tensorflow.keras import layers"
   ]
  }
 ],
 "metadata": {
  "kernelspec": {
   "display_name": "Python 3",
   "language": "python",
   "name": "python3"
  },
  "language_info": {
   "codemirror_mode": {
    "name": "ipython",
    "version": 3
   },
   "file_extension": ".py",
   "mimetype": "text/x-python",
   "name": "python",
   "nbconvert_exporter": "python",
   "pygments_lexer": "ipython3",
   "version": "3.8.6"
  }
 },
 "nbformat": 4,
 "nbformat_minor": 4
}
