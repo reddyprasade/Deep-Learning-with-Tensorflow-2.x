{
  "cells": [
    {
      "cell_type": "markdown",
      "source": [
        "# TensorFlow 2.0 Introduction\n",
        "In this notebook you will be given an interactive introduction to TensorFlow 2.0. We will walk through the following topics within the TensorFlow module:\n",
        "\n",
        "- TensorFlow Install and Setup\n",
        "- Representing Tensors\n",
        "- Tensor Shape and Rank\n",
        "- Types of Tensors\n",
        "\n",
        "\n",
        "If you'd like to follow along without installing TensorFlow on your machine you can use **Google Collaboratory**. Collaboratory is a free Jupyter notebook environment that requires no setup and runs entirely in the cloud."
      ],
      "metadata": {
        "id": "-5u3a4csUPyn"
      }
    },
    {
      "cell_type": "markdown",
      "source": [
        "## Installing TensorFlow\n",
        "To install TensorFlow on your local machine you can use pip.\n",
        "\n",
        "```console\n",
        "pip install tensorflow\n",
        "```"
      ],
      "metadata": {
        "id": "F7ThfbiQl96l"
      }
    },
    {
      "cell_type": "markdown",
      "source": [
        "If you have a CUDA enabled GPU you can install the GPU version of TensorFlow. You will also need to install some other software which can be found here: https://www.tensorflow.org/install/gpu \n",
        "```console\n",
        "pip install tensorflow-gpu\n",
        "```"
      ],
      "metadata": {
        "id": "JYQWyAJ2mez6"
      }
    },
    {
      "cell_type": "markdown",
      "source": [
        "## Importing TensorFlow\n",
        "The first step here is going to be to select the correct version of TensorFlow from within collabratory!\n"
      ],
      "metadata": {
        "id": "JJjNMaSClWhg"
      }
    },
    {
      "cell_type": "code",
      "source": [
        "%tensorflow_version 2.x  # this line is not required unless you are in a notebook"
      ],
      "outputs": [
        {
          "output_type": "stream",
          "name": "stderr",
          "text": [
            "UsageError: Line magic function `%tensorflow_version` not found.\n"
          ]
        }
      ],
      "execution_count": 1,
      "metadata": {
        "id": "vGcE8x2Gkw9K",
        "execution": {
          "iopub.status.busy": "2021-01-02T03:50:22.067Z",
          "iopub.execute_input": "2021-01-02T03:50:22.083Z",
          "iopub.status.idle": "2021-01-02T03:50:22.127Z",
          "shell.execute_reply": "2021-01-02T03:50:22.161Z"
        }
      }
    },
    {
      "cell_type": "code",
      "source": [
        "import tensorflow as tf  # now import the tensorflow module\n",
        "print(tf.version)  # make sure the version is 2.x"
      ],
      "outputs": [
        {
          "output_type": "stream",
          "name": "stdout",
          "text": [
            "<module 'tensorflow._api.v2.version' from 'C:\\\\Users\\\\reddy\\\\AppData\\\\Local\\\\Programs\\\\Python\\\\Python36\\\\lib\\\\site-packages\\\\tensorflow\\\\_api\\\\v2\\\\version\\\\__init__.py'>\n"
          ]
        }
      ],
      "execution_count": 3,
      "metadata": {
        "id": "4N7XbNDVY8P3",
        "execution": {
          "iopub.status.busy": "2021-01-02T03:52:56.655Z",
          "iopub.execute_input": "2021-01-02T03:52:56.675Z",
          "iopub.status.idle": "2021-01-02T03:52:56.707Z",
          "shell.execute_reply": "2021-01-02T03:52:56.745Z"
        }
      }
    },
    {
      "cell_type": "markdown",
      "source": [
        "## Tensors \n",
        "\"A tensor is a generalization of vectors and matrices to potentially higher dimensions. Internally, TensorFlow represents tensors as n-dimensional arrays of base datatypes.\" (https://www.tensorflow.org/guide/tensor)\n",
        "\n",
        "It should't surprise you that tensors are a fundemental apsect of TensorFlow. They are the main objects that are passed around and manipluated throughout the program. Each tensor represents a partialy defined computation that will eventually produce a value. TensorFlow programs work by building a graph of Tensor objects that details how tensors are related. Running different parts of the graph allow results to be generated.\n",
        "\n",
        "Each tensor has a data type and a shape. \n",
        "\n",
        "**Data Types Include**: float32, int32, string and others.\n",
        "\n",
        "**Shape**: Represents the dimension of data.\n",
        "\n",
        "Just like vectors and matrices tensors can have operations applied to them like addition, subtraction, dot product, cross product etc.\n",
        "\n",
        "In the next sections we will discuss some different properties of tensors. This is to make you more familiar with how tensorflow represnts data and how you can manipulate this data.\n"
      ],
      "metadata": {
        "id": "duDj86TfWFof"
      }
    },
    {
      "cell_type": "markdown",
      "source": [
        "### Creating Tensors\n",
        "Below is an example of how to create some different tensors.\n",
        "\n",
        "You simply define the value of the tensor and the datatype and you are good to go! It's worth mentioning that usually we deal with tensors of numeric data, it is quite rare to see string tensors.\n",
        "\n",
        "For a full list of datatypes please refer to the following guide.\n",
        "\n",
        "https://www.tensorflow.org/api_docs/python/tf/dtypes/DType?version=stable"
      ],
      "metadata": {
        "id": "TAk6QhGUwQRt"
      }
    },
    {
      "cell_type": "code",
      "source": [
        "string = tf.Variable(\"this is a string\", tf.string) \n",
        "number = tf.Variable(324, tf.int16)\n",
        "floating = tf.Variable(3.567, tf.float64)"
      ],
      "outputs": [],
      "execution_count": 4,
      "metadata": {
        "id": "epGskXdjZHzu",
        "execution": {
          "iopub.status.busy": "2021-01-02T03:54:47.032Z",
          "iopub.execute_input": "2021-01-02T03:54:47.086Z",
          "iopub.status.idle": "2021-01-02T03:54:51.918Z",
          "shell.execute_reply": "2021-01-02T03:54:51.961Z"
        }
      }
    },
    {
      "cell_type": "code",
      "source": [
        "print(string)"
      ],
      "outputs": [
        {
          "output_type": "stream",
          "name": "stdout",
          "text": [
            "<tf.Variable 'Variable:0' shape=() dtype=string, numpy=b'this is a string'>\n"
          ]
        }
      ],
      "execution_count": 5,
      "metadata": {
        "collapsed": true,
        "jupyter": {
          "source_hidden": false,
          "outputs_hidden": false
        },
        "nteract": {
          "transient": {
            "deleting": false
          }
        },
        "execution": {
          "iopub.status.busy": "2021-01-02T03:55:08.389Z",
          "iopub.execute_input": "2021-01-02T03:55:08.403Z",
          "iopub.status.idle": "2021-01-02T03:55:08.583Z",
          "shell.execute_reply": "2021-01-02T03:55:08.650Z"
        }
      }
    },
    {
      "cell_type": "code",
      "source": [
        "print(number )"
      ],
      "outputs": [
        {
          "output_type": "stream",
          "name": "stdout",
          "text": [
            "<tf.Variable 'Variable:0' shape=() dtype=int32, numpy=324>\n"
          ]
        }
      ],
      "execution_count": 6,
      "metadata": {
        "collapsed": true,
        "jupyter": {
          "source_hidden": false,
          "outputs_hidden": false
        },
        "nteract": {
          "transient": {
            "deleting": false
          }
        },
        "execution": {
          "iopub.status.busy": "2021-01-02T03:55:33.531Z",
          "iopub.execute_input": "2021-01-02T03:55:33.548Z",
          "iopub.status.idle": "2021-01-02T03:55:33.577Z",
          "shell.execute_reply": "2021-01-02T03:55:33.588Z"
        }
      }
    },
    {
      "cell_type": "markdown",
      "source": [
        "### Rank/Degree of Tensors\n",
        "Another word for rank is degree, these terms simply mean the number of dimensions involved in the tensor. What we created above is a *tensor of rank 0*, also known as a scalar. \n",
        "\n",
        "Now we'll create some tensors of higher degrees/ranks."
      ],
      "metadata": {
        "id": "D0_H71HMaE-5"
      }
    },
    {
      "cell_type": "code",
      "source": [
        "rank1_tensor = tf.Variable([\"Test\"], tf.string) \n",
        "rank2_tensor = tf.Variable([[\"test\", \"ok\"], [\"test\", \"yes\"]], tf.string)"
      ],
      "outputs": [],
      "execution_count": 9,
      "metadata": {
        "id": "hX_Cc5IfjQ6-",
        "execution": {
          "iopub.status.busy": "2021-01-02T04:00:31.209Z",
          "iopub.execute_input": "2021-01-02T04:00:31.231Z",
          "iopub.status.idle": "2021-01-02T04:00:31.262Z",
          "shell.execute_reply": "2021-01-02T04:00:31.283Z"
        }
      }
    },
    {
      "cell_type": "markdown",
      "source": [
        "**To determine the rank** of a tensor we can call the following method."
      ],
      "metadata": {
        "id": "55zuGMc7nHjC"
      }
    },
    {
      "cell_type": "code",
      "source": [
        "tf.rank(rank2_tensor)"
      ],
      "outputs": [
        {
          "output_type": "execute_result",
          "execution_count": 10,
          "data": {
            "text/plain": "<tf.Tensor: shape=(), dtype=int32, numpy=2>"
          },
          "metadata": {}
        }
      ],
      "execution_count": 10,
      "metadata": {
        "id": "Zrj0rAWLnMNv",
        "colab": {
          "base_uri": "https://localhost:8080/",
          "height": 34
        },
        "outputId": "b8b34a8c-fc6e-40c6-9fd6-294d1253631e",
        "execution": {
          "iopub.status.busy": "2021-01-02T04:00:35.386Z",
          "iopub.execute_input": "2021-01-02T04:00:35.401Z",
          "iopub.status.idle": "2021-01-02T04:00:35.693Z",
          "shell.execute_reply": "2021-01-02T04:00:35.724Z"
        }
      }
    },
    {
      "cell_type": "markdown",
      "source": [
        "The rank of a tensor is direclty related to the deepest level of nested lists. You can see in the first example ```[\"Test\"]``` is a rank 1 tensor as the deepest level of nesting is 1. \n",
        "Where in the second example ```[[\"test\", \"ok\"], [\"test\", \"yes\"]]``` is a rank 2 tensor as the deepest level of nesting is 2."
      ],
      "metadata": {
        "id": "hTv4Gz67pQbx"
      }
    },
    {
      "cell_type": "markdown",
      "source": [
        "### Shape of Tensors\n",
        "Now that we've talked about the rank of tensors it's time to talk about the shape. The shape of a tensor is simply the number of elements that exist in each dimension. TensorFlow will try to determine the shape of a tensor but sometimes it may be unknown.\n",
        "\n",
        "To **get the shape** of a tensor we use the shape attribute.\n"
      ],
      "metadata": {
        "id": "RaVrANK8q21q"
      }
    },
    {
      "cell_type": "code",
      "source": [
        "rank2_tensor.shape"
      ],
      "outputs": [],
      "execution_count": null,
      "metadata": {
        "id": "L_NRXsFOraYa"
      }
    },
    {
      "cell_type": "markdown",
      "source": [
        "###Changing Shape\n",
        "The number of elements of a tensor is the product of the sizes of all its shapes. There are often many shapes that have the same number of elements, making it convient to be able to change the shape of a tensor.\n",
        "\n",
        "The example below shows how to change the shape of a tensor."
      ],
      "metadata": {
        "id": "wVDmLJeFs086"
      }
    },
    {
      "cell_type": "code",
      "source": [
        "tensor1 = tf.ones([1,2,3])  # tf.ones() creates a shape [1,2,3] tensor full of ones\n",
        "tensor2 = tf.reshape(tensor1, [2,3,1])  # reshape existing data to shape [2,3,1]\n",
        "tensor3 = tf.reshape(tensor2, [3, -1])  # -1 tells the tensor to calculate the size of the dimension in that place\n",
        "                                        # this will reshape the tensor to [3,3]\n",
        "                                                                             \n",
        "# The numer of elements in the reshaped tensor MUST match the number in the original"
      ],
      "outputs": [],
      "execution_count": 11,
      "metadata": {
        "id": "dZ8Rbs2xtNqj",
        "execution": {
          "iopub.status.busy": "2021-01-02T04:05:46.581Z",
          "iopub.execute_input": "2021-01-02T04:05:46.600Z",
          "shell.execute_reply": "2021-01-02T04:05:46.833Z",
          "iopub.status.idle": "2021-01-02T04:05:46.875Z"
        }
      }
    },
    {
      "cell_type": "markdown",
      "source": [
        "Now let's have a look at our different tensors."
      ],
      "metadata": {
        "id": "M631k7UDv1Wh"
      }
    },
    {
      "cell_type": "code",
      "source": [
        "print(tensor1)\n",
        "print(tensor2)\n",
        "print(tensor3)\n",
        "# Notice the changes in shape"
      ],
      "outputs": [
        {
          "output_type": "stream",
          "name": "stdout",
          "text": [
            "tf.Tensor(\n",
            "[[[1. 1. 1.]\n",
            "  [1. 1. 1.]]], shape=(1, 2, 3), dtype=float32)\n",
            "tf.Tensor(\n",
            "[[[1.]\n",
            "  [1.]\n",
            "  [1.]]\n",
            "\n",
            " [[1.]\n",
            "  [1.]\n",
            "  [1.]]], shape=(2, 3, 1), dtype=float32)\n",
            "tf.Tensor(\n",
            "[[1. 1.]\n",
            " [1. 1.]\n",
            " [1. 1.]], shape=(3, 2), dtype=float32)\n"
          ]
        }
      ],
      "execution_count": 12,
      "metadata": {
        "id": "IFNmUxaEv6s3",
        "execution": {
          "iopub.status.busy": "2021-01-02T04:05:51.021Z",
          "iopub.execute_input": "2021-01-02T04:05:51.043Z",
          "iopub.status.idle": "2021-01-02T04:05:51.227Z",
          "shell.execute_reply": "2021-01-02T04:05:51.247Z"
        }
      }
    },
    {
      "cell_type": "markdown",
      "source": [
        "### Slicing Tensors\n",
        "You may be familiar with the term \"slice\" in python and its use on lists, tuples etc. Well the slice operator can be used on tensors to select specific axes or elements.\n",
        "\n",
        "When we slice or select elements from a tensor, we can use comma seperated values inside the set of square brackets. Each subsequent value refrences a different dimension of the tensor.\n",
        "\n",
        "Ex: ```tensor[dim1, dim2, dim3]```\n",
        "\n",
        "I've included a few examples that will hopefully help illustrate how we can manipulate tensors with the slice operator."
      ],
      "metadata": {
        "id": "q88pJucBolsp"
      }
    },
    {
      "cell_type": "code",
      "source": [
        "# Creating a 2D tensor\n",
        "matrix = [[1,2,3,4,5],\n",
        "          [6,7,8,9,10],\n",
        "          [11,12,13,14,15],\n",
        "          [16,17,18,19,20]]\n",
        "\n",
        "tensor = tf.Variable(matrix, dtype=tf.int32) \n",
        "print(tf.rank(tensor))\n",
        "print(tensor.shape)"
      ],
      "outputs": [
        {
          "output_type": "stream",
          "name": "stdout",
          "text": [
            "tf.Tensor(2, shape=(), dtype=int32)\n",
            "(4, 5)\n"
          ]
        }
      ],
      "execution_count": 13,
      "metadata": {
        "id": "b0YrD-hRqD-W",
        "execution": {
          "iopub.status.busy": "2021-01-02T04:09:09.281Z",
          "iopub.execute_input": "2021-01-02T04:09:09.296Z",
          "iopub.status.idle": "2021-01-02T04:09:09.324Z",
          "shell.execute_reply": "2021-01-02T04:09:09.348Z"
        }
      }
    },
    {
      "cell_type": "code",
      "source": [
        "# Now lets select some different rows and columns from our tensor\n",
        "\n",
        "three = tensor[0,2]  # selects the 3rd element from the 1st row\n",
        "print(three)  # -> 3"
      ],
      "outputs": [
        {
          "output_type": "stream",
          "name": "stdout",
          "text": [
            "tf.Tensor(3, shape=(), dtype=int32)\n"
          ]
        }
      ],
      "execution_count": 15,
      "metadata": {
        "id": "Wd85uGI7qyfC",
        "execution": {
          "iopub.status.busy": "2021-01-02T04:10:08.574Z",
          "iopub.execute_input": "2021-01-02T04:10:08.594Z",
          "iopub.status.idle": "2021-01-02T04:10:08.622Z",
          "shell.execute_reply": "2021-01-02T04:10:08.634Z"
        }
      }
    },
    {
      "cell_type": "code",
      "source": [
        "row1 = tensor[0]  # selects the first row\n",
        "print(row1)\n",
        "\n",
        "column1 = tensor[:, 0]  # selects the first column\n",
        "print(column1)\n",
        "\n",
        "row_2_and_4 = tensor[1::2]  # selects second and fourth row\n",
        "print(row2and4)\n",
        "\n",
        "column_1_in_row_2_and_3 = tensor[1:3, 0]\n",
        "print(column_1_in_row_2_and_3)\n"
      ],
      "outputs": [],
      "execution_count": null,
      "metadata": {
        "collapsed": true,
        "jupyter": {
          "source_hidden": false,
          "outputs_hidden": false
        },
        "nteract": {
          "transient": {
            "deleting": false
          }
        }
      }
    },
    {
      "cell_type": "markdown",
      "source": [
        "###Types of Tensors\n",
        "Before we go to far, I will mention that there are diffent types of tensors. These are the most used and we will talk more in depth about each as they are used.\n",
        "- Variable\n",
        "- Constant\n",
        "- Placeholder\n",
        "- SparseTensor\n",
        "\n",
        "With the execption of ```Variable``` all these tensors are immuttable, meaning their value may not change during execution.\n",
        "\n",
        "For now, it is enough to understand that we use the Variable tensor when we want to potentially change the value of our tensor.\n",
        "\n"
      ],
      "metadata": {
        "id": "UU4MMhB_rxvz"
      }
    },
    {
      "cell_type": "markdown",
      "source": [
        "#Sources\n",
        "Most of the information is taken direclty from the TensorFlow website which can be found below.\n",
        "\n",
        "https://www.tensorflow.org/guide/tensor"
      ],
      "metadata": {
        "id": "F2OoXbe7aSVl"
      }
    }
  ],
  "metadata": {
    "colab": {
      "name": "TensorFlow-Introduction.ipynb",
      "provenance": []
    },
    "kernelspec": {
      "name": "python3",
      "display_name": "Python 3"
    },
    "language_info": {
      "name": "python",
      "version": "3.6.8",
      "mimetype": "text/x-python",
      "codemirror_mode": {
        "name": "ipython",
        "version": 3
      },
      "pygments_lexer": "ipython3",
      "nbconvert_exporter": "python",
      "file_extension": ".py"
    },
    "nteract": {
      "version": "0.27.0"
    }
  },
  "nbformat": 4,
  "nbformat_minor": 0
}