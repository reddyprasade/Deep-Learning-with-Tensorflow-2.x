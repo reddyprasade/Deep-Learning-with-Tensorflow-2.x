{
  "nbformat": 4,
  "nbformat_minor": 0,
  "metadata": {
    "colab": {
      "name": "DL0101EN-31-Recurrent Neural Networks (RNN)  Layers in Keras.ipynb",
      "provenance": [],
      "collapsed_sections": []
    },
    "kernelspec": {
      "name": "python3",
      "display_name": "Python 3"
    }
  },
  "cells": [
    {
      "cell_type": "markdown",
      "metadata": {
        "id": "2DP8RwfOWaly"
      },
      "source": [
        "### Introduction\r\n",
        "Recurrent neural networks (RNN) are a class of neural networks that is powerful for modeling sequence data such as `time series` or `natural language`.\r\n",
        "\r\n",
        "\r\n",
        "### Keras RNN API\r\n",
        "1. **Ease of use** Built-in Keras RNN API LAyers\r\n",
        "    * keras.layers.RNN\r\n",
        "    * keras.layers.LSTM(Long Shot Tream Memory)\r\n",
        "    * keras.layers.GRU(Gated recurrent unit)"
      ]
    },
    {
      "cell_type": "code",
      "metadata": {
        "id": "BUwp3jMcT874"
      },
      "source": [
        "import numpy as np\r\n",
        "import tensorflow as tf\r\n",
        "from tensorflow import keras\r\n",
        "from tensorflow.keras import layers"
      ],
      "execution_count": 1,
      "outputs": []
    },
    {
      "cell_type": "code",
      "metadata": {
        "id": "zzyF7roWXHuR"
      },
      "source": [
        "model =keras.Sequential()\r\n",
        "model.add(layers.Embedding(input_dim=1000,output_dim=64))"
      ],
      "execution_count": 3,
      "outputs": []
    },
    {
      "cell_type": "code",
      "metadata": {
        "id": "ZTE8VvwgXZGZ"
      },
      "source": [
        "model.add(layers.LSTM(128)) # interal Unit"
      ],
      "execution_count": 4,
      "outputs": []
    },
    {
      "cell_type": "code",
      "metadata": {
        "id": "dxG0xEgzXhdU"
      },
      "source": [
        "model.add(layers.Dense(10))"
      ],
      "execution_count": 5,
      "outputs": []
    },
    {
      "cell_type": "code",
      "metadata": {
        "colab": {
          "base_uri": "https://localhost:8080/"
        },
        "id": "lPtWP1VGXoaO",
        "outputId": "a7dc4f0c-b0ca-4c2a-c768-af097549cab3"
      },
      "source": [
        "model.summary()"
      ],
      "execution_count": 6,
      "outputs": [
        {
          "output_type": "stream",
          "text": [
            "Model: \"sequential\"\n",
            "_________________________________________________________________\n",
            "Layer (type)                 Output Shape              Param #   \n",
            "=================================================================\n",
            "embedding (Embedding)        (None, None, 64)          64000     \n",
            "_________________________________________________________________\n",
            "lstm (LSTM)                  (None, 128)               98816     \n",
            "_________________________________________________________________\n",
            "dense (Dense)                (None, 10)                1290      \n",
            "=================================================================\n",
            "Total params: 164,106\n",
            "Trainable params: 164,106\n",
            "Non-trainable params: 0\n",
            "_________________________________________________________________\n"
          ],
          "name": "stdout"
        }
      ]
    },
    {
      "cell_type": "code",
      "metadata": {
        "colab": {
          "base_uri": "https://localhost:8080/"
        },
        "id": "A-rtiE_GXpoC",
        "outputId": "7de100d7-775d-4387-c98f-e90716c7f3d0"
      },
      "source": [
        "model = keras.Sequential()\r\n",
        "model.add(layers.Embedding(input_dim=1000, output_dim=64))\r\n",
        "\r\n",
        "# The output of GRU will be a 3D tensor of shape (batch_size, timesteps, 256)\r\n",
        "model.add(layers.GRU(256, return_sequences=True))\r\n",
        "\r\n",
        "# The output of SimpleRNN will be a 2D tensor of shape (batch_size, 128)\r\n",
        "model.add(layers.SimpleRNN(128))\r\n",
        "\r\n",
        "model.add(layers.Dense(10))\r\n",
        "\r\n",
        "model.summary()"
      ],
      "execution_count": 7,
      "outputs": [
        {
          "output_type": "stream",
          "text": [
            "Model: \"sequential_1\"\n",
            "_________________________________________________________________\n",
            "Layer (type)                 Output Shape              Param #   \n",
            "=================================================================\n",
            "embedding_1 (Embedding)      (None, None, 64)          64000     \n",
            "_________________________________________________________________\n",
            "gru (GRU)                    (None, None, 256)         247296    \n",
            "_________________________________________________________________\n",
            "simple_rnn (SimpleRNN)       (None, 128)               49280     \n",
            "_________________________________________________________________\n",
            "dense_1 (Dense)              (None, 10)                1290      \n",
            "=================================================================\n",
            "Total params: 361,866\n",
            "Trainable params: 361,866\n",
            "Non-trainable params: 0\n",
            "_________________________________________________________________\n"
          ],
          "name": "stdout"
        }
      ]
    },
    {
      "cell_type": "code",
      "metadata": {
        "id": "lQYmjqfuXxdb"
      },
      "source": [
        "encodeer_vocab = 1000\r\n",
        "decoder_vocab = 2000\r\n",
        "\r\n",
        "encoder_input =layers.Input(shape=(None,))\r\n",
        "encoder_embedded = layers.Embedding(input_dim=encodeer_vocab, output_dim=64)(encoder_input)\r\n",
        "\r\n",
        "# Addition to ouput layer\r\n",
        "output,state_h,state_c = layers.LSTM(64,return_state=True,name=\"encoder\")(encoder_embedded)\r\n",
        "encoder_state = [state_h,state_c]\r\n"
      ],
      "execution_count": 8,
      "outputs": []
    },
    {
      "cell_type": "code",
      "metadata": {
        "id": "t1M4wuYkZn71"
      },
      "source": [
        "decoder_input = layers.Input(shape=(None,))\r\n",
        "decoder_embedded = layers.Embedding(input_dim=encodeer_vocab, output_dim=64)(decoder_input)\r\n"
      ],
      "execution_count": 9,
      "outputs": []
    },
    {
      "cell_type": "code",
      "metadata": {
        "id": "YhrGp306Z4LJ"
      },
      "source": [
        "decoder_output  =layers.LSTM(64,name=\"decoder\")(decoder_embedded,initial_state=encoder_state)\r\n",
        "output = layers.Dense(10)(decoder_output)"
      ],
      "execution_count": 10,
      "outputs": []
    },
    {
      "cell_type": "code",
      "metadata": {
        "colab": {
          "base_uri": "https://localhost:8080/"
        },
        "id": "GxsTD1vIaJ9O",
        "outputId": "f8559ddd-9f91-47a0-a24f-cbc96a9623fb"
      },
      "source": [
        "model = keras.Model([encoder_input,decoder_input],output)\r\n",
        "model.summary()"
      ],
      "execution_count": 11,
      "outputs": [
        {
          "output_type": "stream",
          "text": [
            "Model: \"model\"\n",
            "__________________________________________________________________________________________________\n",
            "Layer (type)                    Output Shape         Param #     Connected to                     \n",
            "==================================================================================================\n",
            "input_1 (InputLayer)            [(None, None)]       0                                            \n",
            "__________________________________________________________________________________________________\n",
            "input_2 (InputLayer)            [(None, None)]       0                                            \n",
            "__________________________________________________________________________________________________\n",
            "embedding_2 (Embedding)         (None, None, 64)     64000       input_1[0][0]                    \n",
            "__________________________________________________________________________________________________\n",
            "embedding_3 (Embedding)         (None, None, 64)     64000       input_2[0][0]                    \n",
            "__________________________________________________________________________________________________\n",
            "encoder (LSTM)                  [(None, 64), (None,  33024       embedding_2[0][0]                \n",
            "__________________________________________________________________________________________________\n",
            "decoder (LSTM)                  (None, 64)           33024       embedding_3[0][0]                \n",
            "                                                                 encoder[0][1]                    \n",
            "                                                                 encoder[0][2]                    \n",
            "__________________________________________________________________________________________________\n",
            "dense_2 (Dense)                 (None, 10)           650         decoder[0][0]                    \n",
            "==================================================================================================\n",
            "Total params: 194,698\n",
            "Trainable params: 194,698\n",
            "Non-trainable params: 0\n",
            "__________________________________________________________________________________________________\n"
          ],
          "name": "stdout"
        }
      ]
    },
    {
      "cell_type": "code",
      "metadata": {
        "id": "qVQ2lRJoaVss"
      },
      "source": [
        "## RNN layers and RNN cells"
      ],
      "execution_count": 12,
      "outputs": []
    },
    {
      "cell_type": "code",
      "metadata": {
        "id": "uNrJqMaZd0G7"
      },
      "source": [
        "paragraph1 = np.random.random((20,10,50)).astype(np.float32)\r\n",
        "paragraph2 = np.random.random((20,10,50)).astype(np.float32)\r\n",
        "paragraph3 = np.random.random((20,10,50)).astype(np.float32)"
      ],
      "execution_count": 16,
      "outputs": []
    },
    {
      "cell_type": "code",
      "metadata": {
        "id": "jAdYRD98ddz1"
      },
      "source": [
        "lstm_layes = layers.LSTM(64,stateful=True)"
      ],
      "execution_count": 17,
      "outputs": []
    },
    {
      "cell_type": "code",
      "metadata": {
        "colab": {
          "base_uri": "https://localhost:8080/"
        },
        "id": "faliltdve0AC",
        "outputId": "9c7d286e-d7f8-4882-b31c-45a0c49f0a61"
      },
      "source": [
        "output1 = lstm_layes(paragraph1)\r\n",
        "output1"
      ],
      "execution_count": 18,
      "outputs": [
        {
          "output_type": "execute_result",
          "data": {
            "text/plain": [
              "<tf.Tensor: shape=(20, 64), dtype=float32, numpy=\n",
              "array([[ 0.149182  ,  0.0984559 , -0.03400996, ...,  0.3324095 ,\n",
              "        -0.04334225,  0.26871008],\n",
              "       [ 0.01541198,  0.02514893,  0.02832633, ...,  0.23924802,\n",
              "         0.02662718,  0.2031984 ],\n",
              "       [ 0.20027432,  0.06544052, -0.06190866, ...,  0.31671703,\n",
              "        -0.05458254,  0.3291244 ],\n",
              "       ...,\n",
              "       [ 0.12431772,  0.09712484,  0.04886755, ...,  0.2619186 ,\n",
              "         0.03659557,  0.1797513 ],\n",
              "       [ 0.00150693,  0.05600857,  0.07027224, ...,  0.20397915,\n",
              "        -0.0177468 ,  0.190222  ],\n",
              "       [ 0.07801418,  0.08912748,  0.0187683 , ...,  0.33133367,\n",
              "         0.07407717,  0.21878695]], dtype=float32)>"
            ]
          },
          "metadata": {
            "tags": []
          },
          "execution_count": 18
        }
      ]
    },
    {
      "cell_type": "code",
      "metadata": {
        "id": "JPlkwF2Ve6OO"
      },
      "source": [
        "output1 = lstm_layes(paragraph2)\r\n",
        "output1 = lstm_layes(paragraph3)"
      ],
      "execution_count": 19,
      "outputs": []
    },
    {
      "cell_type": "code",
      "metadata": {
        "colab": {
          "base_uri": "https://localhost:8080/"
        },
        "id": "j9wQ10AofB-S",
        "outputId": "8d0fa115-0e75-42b7-fbca-901be7d9a4a8"
      },
      "source": [
        "output1"
      ],
      "execution_count": 21,
      "outputs": [
        {
          "output_type": "execute_result",
          "data": {
            "text/plain": [
              "<tf.Tensor: shape=(20, 64), dtype=float32, numpy=\n",
              "array([[ 0.0231192 ,  0.06115599, -0.05701875, ...,  0.23524678,\n",
              "         0.01739244,  0.22129564],\n",
              "       [ 0.13437752,  0.08276025,  0.0495629 , ...,  0.17493336,\n",
              "         0.04121735,  0.22465427],\n",
              "       [ 0.02950412,  0.06756306, -0.01892514, ...,  0.32155162,\n",
              "        -0.00428251,  0.29230082],\n",
              "       ...,\n",
              "       [ 0.03360521, -0.04926559, -0.03957021, ...,  0.36741382,\n",
              "        -0.01722551,  0.27341232],\n",
              "       [ 0.05464854,  0.03126886, -0.07255708, ...,  0.29710826,\n",
              "         0.00880164,  0.23049855],\n",
              "       [ 0.11449699,  0.0700281 ,  0.09563901, ...,  0.3397338 ,\n",
              "         0.04523849,  0.19895108]], dtype=float32)>"
            ]
          },
          "metadata": {
            "tags": []
          },
          "execution_count": 21
        }
      ]
    },
    {
      "cell_type": "code",
      "metadata": {
        "id": "NOdUK2JXfF6f"
      },
      "source": [
        "lstm_layes.reset_states()"
      ],
      "execution_count": 23,
      "outputs": []
    },
    {
      "cell_type": "code",
      "metadata": {
        "id": "JALyNJRLfKIY"
      },
      "source": [
        "paragraph1 = np.random.random((20,10,50)).astype(np.float32)\r\n",
        "paragraph2 = np.random.random((20,10,50)).astype(np.float32)\r\n",
        "paragraph3 = np.random.random((20,10,50)).astype(np.float32)\r\n",
        "\r\n",
        "lstm_layer = layers.LSTM(64, stateful=True)\r\n",
        "output = lstm_layer(paragraph1)\r\n",
        "output = lstm_layer(paragraph2)\r\n",
        "\r\n",
        "existing_state = lstm_layer.states"
      ],
      "execution_count": 25,
      "outputs": []
    },
    {
      "cell_type": "code",
      "metadata": {
        "id": "E2no7IvPfeUt"
      },
      "source": [
        "new_lstm_layer = layers.LSTM(64)\r\n",
        "new_output = new_lstm_layer(paragraph3, initial_state=existing_state)"
      ],
      "execution_count": 26,
      "outputs": []
    },
    {
      "cell_type": "code",
      "metadata": {
        "colab": {
          "base_uri": "https://localhost:8080/"
        },
        "id": "va8xE1kvfggS",
        "outputId": "4b787b8e-3d32-4df3-caf0-09759b74e886"
      },
      "source": [
        "new_output"
      ],
      "execution_count": 27,
      "outputs": [
        {
          "output_type": "execute_result",
          "data": {
            "text/plain": [
              "<tf.Tensor: shape=(20, 64), dtype=float32, numpy=\n",
              "array([[-0.13040799, -0.14051014,  0.1440264 , ..., -0.21907756,\n",
              "        -0.2212108 ,  0.34351596],\n",
              "       [-0.14163095, -0.2013616 ,  0.05614021, ..., -0.13782127,\n",
              "        -0.10555   ,  0.27189273],\n",
              "       [-0.09240718, -0.18324399,  0.17198919, ..., -0.11951485,\n",
              "        -0.18945704,  0.28465444],\n",
              "       ...,\n",
              "       [-0.1302602 , -0.24054158,  0.1387838 , ..., -0.19101603,\n",
              "        -0.14297906,  0.38465154],\n",
              "       [-0.10163777, -0.14202139,  0.04231317, ..., -0.11261632,\n",
              "        -0.13500588,  0.2887042 ],\n",
              "       [-0.06895519, -0.17153624,  0.03698158, ..., -0.19048609,\n",
              "        -0.2133256 ,  0.3297368 ]], dtype=float32)>"
            ]
          },
          "metadata": {
            "tags": []
          },
          "execution_count": 27
        }
      ]
    },
    {
      "cell_type": "code",
      "metadata": {
        "id": "JfYZOKV2fic8"
      },
      "source": [
        ""
      ],
      "execution_count": null,
      "outputs": []
    }
  ]
}