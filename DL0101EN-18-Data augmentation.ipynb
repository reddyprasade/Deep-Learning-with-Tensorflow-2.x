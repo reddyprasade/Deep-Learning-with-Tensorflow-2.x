{
 "cells": [
  {
   "cell_type": "markdown",
   "metadata": {},
   "source": [
    "<h1 align='center'>Data augmentation</h1>\n",
    "Data augmentation is a strategy that enables practitioners to significantly increase the diversity of data available for training models, without actually collecting new data. Data augmentation techniques such as cropping, padding, and horizontal flipping are commonly used to train large neural networks."
   ]
  },
  {
   "cell_type": "markdown",
   "metadata": {},
   "source": [
    "![](https://lh3.googleusercontent.com/-sPN4XQhpdP4/XeZQDp7f7DI/AAAAAAAAkvE/-JkTNAihRQYUAwPZKsZ1Tl382qPG5nZGACK8BGAsYHg/s0/2019-12-03.png)\n",
    "![](https://lh3.googleusercontent.com/-eXsqZ7yHbzE/XeZQJBSZ7GI/AAAAAAAAkvI/5krtsGs87rYsW4fBIhY95iZtExTosVD6QCK8BGAsYHg/s0/2019-12-03.png)\n",
    "![](https://lh3.googleusercontent.com/-6mcvOFXyr40/XeZQOjBvBqI/AAAAAAAAkvM/9NIiUDMbxxI59VRtYts5QEuNL7vORyvHQCK8BGAsYHg/s0/2019-12-03.png)\n",
    "![](https://lh3.googleusercontent.com/-AbK8Qn4DZ38/XeZQSDBXFvI/AAAAAAAAkvQ/xfXbngr_pCUG-iNyIevoZKC6UnxsJfFPgCK8BGAsYHg/s0/2019-12-03.png)\n",
    "![](https://lh3.googleusercontent.com/-eWuJ8eM-mBs/XeZQThn0YTI/AAAAAAAAkvU/9x_fpTsAwM0pMQWs7QOsw_221TBp6Xk_ACK8BGAsYHg/s0/2019-12-03.png)\n",
    "![](https://lh3.googleusercontent.com/-p8JENJze3V8/XeZQoU0J70I/AAAAAAAAkvg/grdVNG7Godgs01-3fNeTgfxaKA7wnwjEACK8BGAsYHg/s0/2019-12-03.png)\n",
    "![](https://lh3.googleusercontent.com/-4YM328D07XM/XeZR7YaFMLI/AAAAAAAAkwQ/_J2mc5_oJKUR2h52phirF4jCLaIBdOY3QCK8BGAsYHg/s0/2019-12-03.png)\n",
    "![](https://lh3.googleusercontent.com/-oztbcXpaW9k/XeZR0kq9PuI/AAAAAAAAkwM/A5wK7m_WkqsBDLuXXPW13vUKaa5AwH08gCK8BGAsYHg/s0/2019-12-03.png)\n",
    "![](https://lh3.googleusercontent.com/-7Q4pTkYuuIA/XeZRyuguysI/AAAAAAAAkwI/rZUYbKnhwrgvMEaqY8pw3sJS9fl-KEAcACK8BGAsYHg/s0/2019-12-03.png)\n",
    "![](https://lh3.googleusercontent.com/-klUptJg_M2k/XeZRwaIaPMI/AAAAAAAAkwE/WxVv8ZLqYhwjeFKwm5v146c_L77pTJ0lwCK8BGAsYHg/s0/2019-12-03.png)\n",
    "![](https://lh3.googleusercontent.com/-REUL258V7mY/XeZRvHCyG6I/AAAAAAAAkwA/TXtRMUGnhYIArN39b_Xld48dB2fKQ7uVwCK8BGAsYHg/s0/2019-12-03.png)\n",
    "![](https://lh3.googleusercontent.com/-vb-2Z1SlSIA/XeZRr_J3HkI/AAAAAAAAkv8/93P7HLCC4fIr9n4qWLx0zZmoZMEqWqNjACK8BGAsYHg/s0/2019-12-03.png)\n",
    "![](https://lh3.googleusercontent.com/-QBkM_VBQm7g/XeZRnNcFnDI/AAAAAAAAkv4/xRKsJT28SCgYflGc_f3DTbapsX8O3F02gCK8BGAsYHg/s0/2019-12-03.png)\n",
    "![](https://lh3.googleusercontent.com/-WDH76Aua_j8/XeZRlH_Yd2I/AAAAAAAAkv0/3PwWn9Ci1LAXCY6WGykojk3L1PWTc9a7wCK8BGAsYHg/s0/2019-12-03.png)\n",
    "![](https://lh3.googleusercontent.com/-EytW1inQrPo/XeZRSexVO-I/AAAAAAAAkvs/vqnCYTOM1Mk6kRbyGeRaF1k5Y5n2kO2lQCK8BGAsYHg/s0/2019-12-03.png)\n",
    "![](https://lh3.googleusercontent.com/-iPMb_FtVUIQ/XeZSD6U3gJI/AAAAAAAAkwU/kmFjSXYbdkAUIWPNZNqOq4ZADs4vp6z4ACK8BGAsYHg/s0/2019-12-03.png)\n",
    "![](https://lh3.googleusercontent.com/-UgBvFH8fMkg/XeZSFZMNWJI/AAAAAAAAkwY/-24hUi0moE4spdeq_UXZWng2HuJ9f5hngCK8BGAsYHg/s0/2019-12-03.png)\n",
    "![](https://lh3.googleusercontent.com/-rZwblsIWNGY/XeZSHCJSWPI/AAAAAAAAkwc/f8wMZ5SRDo8Yo9tRsY8thMW7T3wpt4IuACK8BGAsYHg/s0/2019-12-03.png)\n",
    "![](https://lh3.googleusercontent.com/-25MAsAitJJg/XeZSMiAPSDI/AAAAAAAAkwg/iQK63CHoC5AO6bWsHb--M5_Cpf9bHgOywCK8BGAsYHg/s0/2019-12-03.png)\n",
    "![](https://lh3.googleusercontent.com/-otB4s150I5g/XeZSOogbNVI/AAAAAAAAkwk/E--RSOAnL1E_ts4wSlG7DdbFAvUke7AcwCK8BGAsYHg/s0/2019-12-03.png)\n",
    "![](https://lh3.googleusercontent.com/-UcYWd6iiRbw/XeZSW7uP1FI/AAAAAAAAkwo/I9ESoeUoWDwiIv8laVRtN2zmqywwwxeBgCK8BGAsYHg/s0/2019-12-03.png)\n",
    "![](https://lh3.googleusercontent.com/-pLTu9sKiNbo/XeZSyeg-mCI/AAAAAAAAkww/araBRvdjguUYjH_bgMPyWo_0R-xx2HdYACK8BGAsYHg/s0/2019-12-03.png)\n",
    "![](https://lh3.googleusercontent.com/-Z0eOuOjyDXE/XeZSzwHSh3I/AAAAAAAAkw0/SzgqDZX5GwEdD6a03tvrDUZvqk698SXJwCK8BGAsYHg/s0/2019-12-03.png)\n",
    "![](https://lh3.googleusercontent.com/-TxiGx_t78HY/XeZS1HC77fI/AAAAAAAAkw4/2FOhpPQSWNQJR81Xv4BX_787BEepBTazwCK8BGAsYHg/s0/2019-12-03.png)\n",
    "![](https://lh3.googleusercontent.com/-LpMyhQ8qjAg/XeZS2XdSSSI/AAAAAAAAkw8/7oBghiu5ut0COtx30rnO4OVNZN1f0dFhwCK8BGAsYHg/s0/2019-12-03.png)\n",
    "![](https://lh3.googleusercontent.com/-GW2s613hOaM/XeZTOE9y8uI/AAAAAAAAkxE/8YT9D3GnsFQpksdnP6-B6Nk1YDPQNSsaQCK8BGAsYHg/s0/2019-12-03.png)"
   ]
  },
  {
   "cell_type": "markdown",
   "metadata": {},
   "source": [
    "![](https://lh3.googleusercontent.com/-gEEhUAFj1M8/XeZTQ6X9EZI/AAAAAAAAkxI/ee7A4ie69b0eYAyxaSp24AkXcBiptgO4QCK8BGAsYHg/s0/2019-12-03.png)\n",
    "![](https://lh3.googleusercontent.com/-Tex-BDGPsRw/XeZTUd0gljI/AAAAAAAAkxM/daNQePxVLAAoCkdeqGFalkS_tXEiN4-TQCK8BGAsYHg/s0/2019-12-03.png)\n",
    "![](https://lh3.googleusercontent.com/-Vp86Ii0_hOY/XeZTaUwK17I/AAAAAAAAkxQ/wjaWpWu4lgkrzYHvPnPBsj0jGuRnDY72ACK8BGAsYHg/s0/2019-12-03.png)\n",
    "![](https://lh3.googleusercontent.com/-VKfGLDmlKgE/XeZTfpBAUzI/AAAAAAAAkxY/Im2T47WzBFc-uRU7_ThHGsDr6P6q491wQCK8BGAsYHg/s0/2019-12-03.png)\n",
    "![](https://lh3.googleusercontent.com/-4FeMVWNvi3s/XeZTkOwuhJI/AAAAAAAAkxc/wHa7P0e9Wykbyhch0RNpbmTMS4J72p7CgCK8BGAsYHg/s0/2019-12-03.png)\n",
    "![](https://lh3.googleusercontent.com/-bxh04Q-gJX8/XeZTn2JEH6I/AAAAAAAAkxg/clmqLsmZ7ogfbQbTUNxCsLbFqWyuPhG8gCK8BGAsYHg/s0/2019-12-03.png)\n",
    "![](https://lh3.googleusercontent.com/-CFsAQyEPMa0/XeZTqA-c8-I/AAAAAAAAkxk/LhxsoAV__bg0lxzzmaQ6RBGsseoRKNasQCK8BGAsYHg/s0/2019-12-03.png)\n",
    "![](https://lh3.googleusercontent.com/-8dYiQO-8vs4/XeZU5Vb-2_I/AAAAAAAAkx0/aoZYUjOpy3cWV-WMKoP72LLR_OP_dy1agCK8BGAsYHg/s0/2019-12-03.png)\n",
    "![](https://lh3.googleusercontent.com/-_CEmWmQqMw8/XeZU7BPz55I/AAAAAAAAkx4/owM3-lV3ReEcWS_5lBAgTYr9xwvC2O_DwCK8BGAsYHg/s0/2019-12-03.png)\n",
    "![](https://lh3.googleusercontent.com/-I1GgC2uYGkU/XeZU9OQFl2I/AAAAAAAAkx8/skOYxgBqx2sUaPdLnYX3Lh60CyeAkW9EACK8BGAsYHg/s0/2019-12-03.png)\n",
    "![](https://lh3.googleusercontent.com/--5mg_49N-1M/XeZVC5VW5WI/AAAAAAAAkyA/uE99dDsfBYcXTWB9k92GDj5H4xJYT_YigCK8BGAsYHg/s0/2019-12-03.png)\n",
    "![](https://lh3.googleusercontent.com/-16UEmrSd32w/XeZVH_YZCCI/AAAAAAAAkyE/aeQkDz1TYqols0ODcDKFtAZuFuRBbkk5ACK8BGAsYHg/s0/2019-12-03.png)\n",
    "![](https://lh3.googleusercontent.com/-o5Ec86HkUzs/XeZVK05fUAI/AAAAAAAAkyI/tY2rf5SQS9UfXXMT2FPer2roW7uh_BRRACK8BGAsYHg/s0/2019-12-03.png)\n",
    "![](https://lh3.googleusercontent.com/-EKae5-uSgfY/XeZVMQw2H8I/AAAAAAAAkyM/cmdKmIKl-5IjZ3HTgnfsoImA6mKo2g-0wCK8BGAsYHg/s0/2019-12-03.png)\n",
    "![](https://lh3.googleusercontent.com/-ezGmESdRFwA/XeZVRaWlZqI/AAAAAAAAkyQ/hfo6tF3BNyMiz4mPhC54mN8IHIJDkhl1ACK8BGAsYHg/s0/2019-12-03.png)\n",
    "![](https://lh3.googleusercontent.com/-zeggLhgsyt8/XeeHRSipY0I/AAAAAAAAk0I/tCL4sw7xL5YWo1bu1q-3J1avgG2qp7ahgCK8BGAsYHg/s0/2019-12-04.png)\n",
    "![](https://lh3.googleusercontent.com/-HwhjLR-0oDE/XeeHnQikOBI/AAAAAAAAk0Q/jffgavHeZbQj4Hncp9stuEse7oL_LPMUwCK8BGAsYHg/s0/2019-12-04.png)\n",
    "![](https://lh3.googleusercontent.com/-1t_A2TVXU-8/XeeH4s8-IQI/AAAAAAAAk0Y/mGThIqJmcAkxuN-ZLbYkGgykkj-Yv4NjQCK8BGAsYHg/s0/2019-12-04.png)\n",
    "![](https://lh3.googleusercontent.com/-GO67zTtSP_Y/XeeIAucBwhI/AAAAAAAAk0c/LLFxuwoCF_k1W4ndO-awoNkEKsLFZBtnwCK8BGAsYHg/s0/2019-12-04.png)\n",
    "![](https://lh3.googleusercontent.com/-WwK6jRKbYxI/XeeIJDSHZvI/AAAAAAAAk0g/7LXfr1fBFfkqcj2ryEJJRjhw1iN25ZUJwCK8BGAsYHg/s0/2019-12-04.png)"
   ]
  },
  {
   "cell_type": "code",
   "execution_count": null,
   "metadata": {
    "jupyter": {
     "source_hidden": true
    }
   },
   "outputs": [],
   "source": []
  },
  {
   "cell_type": "markdown",
   "metadata": {
    "jupyter": {
     "outputs_hidden": true
    }
   },
   "source": [
    "![](https://lh3.googleusercontent.com/-V--uRIYktkg/XeeIKR44LjI/AAAAAAAAk0k/rzR8Oi0TGn8PU1wxwrfHIoL0-sWvvfvugCK8BGAsYHg/s0/2019-12-04.png)\n",
    "![](https://lh3.googleusercontent.com/-3jTaisUJfsY/XeeIj8M0glI/AAAAAAAAk0w/ZGP0GKqEArocIu6PrWDpEuAaIHdVcdG9QCK8BGAsYHg/s0/2019-12-04.png)\n",
    "\n",
    "\n",
    "\n",
    "### Image\n",
    "![](https://lh3.googleusercontent.com/-0sHZH-M5K3I/XeeI0YyBQJI/AAAAAAAAk00/FWlvSnOoci0F2_qihPciCT3N9ZuQfbOSQCK8BGAsYHg/s0/2019-12-04.png)\n",
    "![](https://lh3.googleusercontent.com/-DApvJ7y124Q/XeeI2552P1I/AAAAAAAAk08/s5QAfVeARBYcXO916ji7c2ssTXem8NXSwCK8BGAsYHg/s0/2019-12-04.png)\n",
    "   Image Augmentation and Dropout is used for avoid overfitting\n",
    "![](https://lh3.googleusercontent.com/-TRTl_FaPI6s/XeeJsZS3ezI/AAAAAAAAk1Q/7zK_cstNUUkFmMQH4WNrOCHuNx_efXpCwCK8BGAsYHg/s0/2019-12-04.png)\n",
    "**Summary**\n",
    "In this lesson we learned how Convolutional Neural Networks work with color images and saw various techniques that we can use to avoid overfitting . The main key points of this lesson are:\n",
    "\n",
    "CNNs with RGB Images of Different Sizes:\n",
    "\n",
    "**Resizing:** When working with images of different sizes, you must resize all the images to the same size so that they can be fed into a CNN.\n",
    "\n",
    "**Color Images:** Computers interpret color images as 3D arrays.\n",
    "\n",
    "**RGB Image:** Color image composed of 3 color channels: Red, Green, and Blue.\n",
    "\n",
    "**Convolutions:** When working with RGB images we convolve each color channel with its own convolutional filter. Convolutions on each color channel are performed in the same way as with grayscale images, i.e. by performing element-wise multiplication of the convolutional filter (kernel) and a section of the input array. The result of each convolution is added up together with a bias value to get the convoluted output.\n",
    "\n",
    "**Max Pooling:** When working with RGB images we perform max pooling on each color channel using the same window size and stride. Max pooling on each color channel is performed in the same way as with grayscale images, i.e. by selecting the max value in each window.\n",
    "\n",
    "**Validation Set:** We use a validation set to check how the model is doing during the training phase. Validation sets can be used to perform Early Stopping to prevent overfitting and can also be used to help us compare different models and choose the best one.\n",
    "Methods to Prevent Overfitting:\n",
    "\n",
    "**Early Stopping:** In this method, we track the loss on the validation set during the training phase and use it to determine when to stop training such that the model is accurate but not overfitting.\n",
    "\n",
    "**Image Augmentation:** Artificially boosting the number of images in our training set by applying random image transformations to the existing images in the training set.\n",
    "\n",
    "**Dropout:** Removing a random selection of a fixed number of neurons in a neural network during training.\n",
    "You also created and trained a Convolutional Neural Network to classify images of Dogs and Cats with and without Image Augmentation and Dropout. You were able to see that Image Augmentation and Dropout greatly reduces overfitting and improves accuracy. As an exercise, you were able to apply everything you learned in this lesson to create your own CNN to classify images of flowers.\n"
   ]
  },
  {
   "cell_type": "markdown",
   "metadata": {},
   "source": [
    "![](https://lh3.googleusercontent.com/-arRJvGp9GqY/XeeJvJu6YmI/AAAAAAAAk1U/rNLm29os3VcAhNnSG4AsEMkhh32pS0zugCK8BGAsYHg/s0/2019-12-04.png)\n",
    "![](https://lh3.googleusercontent.com/-JLHxyUESYro/XeeJ1a-5ujI/AAAAAAAAk1Y/No2Ye8KXyKU3rdkoo7Wml2Ultlyn3-sKQCK8BGAsYHg/s0/2019-12-04.png)\n",
    "![](https://lh3.googleusercontent.com/-WxuPEnAA09o/XeeJ52s8saI/AAAAAAAAk1c/CgGobciQkVsFTRVUjwVwNi_9CiIQyw4iQCK8BGAsYHg/s0/2019-12-04.png)\n",
    "![](https://lh3.googleusercontent.com/-_r4JKAmyK5E/XeeJ-yZbKSI/AAAAAAAAk1g/y4C3jT79kkAlvVbwf9QD8iDMRrnt_ogtgCK8BGAsYHg/s0/2019-12-04.png)\n",
    "![](https://lh3.googleusercontent.com/-t2wn5VPKpRM/XeeKBqQXvQI/AAAAAAAAk1k/0QS4kFYKWHAzIJAD9cWwlZmW_UM2dfcbwCK8BGAsYHg/s0/2019-12-04.png)\n",
    "![](https://lh3.googleusercontent.com/-1KaTksPFAY0/XeeKGDSZkYI/AAAAAAAAk1o/mITNHy3QpvAWvrkEzn2tK5W-ZESJzqa0wCK8BGAsYHg/s0/2019-12-04.png)\n",
    "![](https://lh3.googleusercontent.com/-6K6EAzo3kaY/XeeOPDoVouI/AAAAAAAAk10/-72nchzH-SQyAx5WWkDD4JJkdL0t9j3bgCK8BGAsYHg/s0/2019-12-04.png)\n",
    "![](https://lh3.googleusercontent.com/-HzNpe12vqEg/XeeOTZ47ELI/AAAAAAAAk14/SItJ4JwZTIQFgkxU0IChfS64g0WShYXPgCK8BGAsYHg/s0/2019-12-04.png)\n",
    "![](https://lh3.googleusercontent.com/-H2OWPRbblHI/XeeOiQnViaI/AAAAAAAAk18/5fevOx6oJJITQz6Ui9w3Wg-W0DfJxAw8wCK8BGAsYHg/s0/2019-12-04.png)\n",
    "![](https://lh3.googleusercontent.com/--5DAOeteRew/XeeOj4x8GwI/AAAAAAAAk2A/XH488yggyPkJZ4QvBq--liOIxoVS6tZMQCK8BGAsYHg/s0/2019-12-04.png)\n",
    "![](https://lh3.googleusercontent.com/-2USwyIcA81Q/XeeOoj850tI/AAAAAAAAk2E/U_6A-HNc2X0nkcGDXu0syurZF5LLtIaZQCK8BGAsYHg/s0/2019-12-04.png)\n",
    "![](https://lh3.googleusercontent.com/-Xyyo9b8RyqA/XeeOso-bvwI/AAAAAAAAk2I/n5Xw3c7XE1cfia9jKRYOb_OfJZrLx-J7gCK8BGAsYHg/s0/2019-12-04.png)\n",
    "![](https://lh3.googleusercontent.com/-mYT_2l0rVd4/XeeO45H-2MI/AAAAAAAAk2M/VeloK94am_8jkwS0CJF9DIzsL3dQm6tBACK8BGAsYHg/s0/2019-12-04.png)\n",
    "![](https://lh3.googleusercontent.com/-E1vq6dRdrjw/XeePW0SBgdI/AAAAAAAAk2U/0mPMwU9t7ZEl82Uw1Nssy2-PS-j44AUjACK8BGAsYHg/s0/2019-12-04.png)\n",
    "![](https://lh3.googleusercontent.com/-D_50sakGK9A/XeePZBsHLGI/AAAAAAAAk2Y/Rr4nZD6m2ZQPw5qcqrsT_dShhIcetRHZgCK8BGAsYHg/s0/2019-12-04.png)\n",
    "![](https://lh3.googleusercontent.com/-bl2kie38MVM/XeePms5Gd5I/AAAAAAAAk2c/PxKtC5QSWS8pgax6u9rrmCcjpv-W13lHwCK8BGAsYHg/s0/2019-12-04.png)\n",
    "![](https://lh3.googleusercontent.com/-OHX2PwwyxAQ/XeePv_qB0NI/AAAAAAAAk2g/OL9MoMeI2XcpmInixGIkjKVSybc6iKD5QCK8BGAsYHg/s0/2019-12-04.png)\n",
    "![](https://lh3.googleusercontent.com/-j95h02SZxmk/XeePzPvjRjI/AAAAAAAAk2k/JnBW19GZnDEF4_HI_rScYrX9XkBeY9nwwCK8BGAsYHg/s0/2019-12-04.png)\n",
    "\n",
    "\n",
    "#### Understanding Convolutional Neural Networks\n",
    "\n",
    "So far we've seen that CNN's perform really well at classifying images. However, at this point, we don't really know how these CNN's actually work. If we could understand what a CNN is actually learning, then in principle, we should be able to improve it even further. One way to try to understand CNNs is by visualizing the convolutional layers. We encourage you to look at the link below to learn more about how to visualize convolutional layers:\n",
    "\n",
    "\n",
    "\n",
    "[Understanding your Convolution network with Visualizations](https://github.com/anktplwl91/visualizing_convnets) \n",
    "##### Summary\n",
    "\n",
    "In this lesson we learned how we can use Transfer Learning to create very powerful Convolutional Neural Networks with very little effort. The main \n",
    "\n",
    "key points of this lesson are:\n",
    "\n",
    "**Transfer Learning:** A technique that reuses a model that was created by machine learning experts and that has already been trained on a large dataset. When performing transfer learning we must always change the last layer of the pre-trained model so that it has the same number of classes that we have in the dataset we are working with.\n",
    "\n",
    "**Freezing Parameters:** Setting the variables of a pre-trained model to non-trainable. By freezing the parameters, we will ensure that only the variables of the last classification layer get trained, while the variables from the other layers of the pre-trained model are kept the same.\n",
    "\n",
    "**MobileNet:** A state-of-the-art convolutional neural network developed by Google that uses a very efficient neural network architecture that minimizes the amount of memory and computational resources needed, while maintaining a high level of accuracy. MobileNet is ideal for mobile devices that have limited memory and computational resources.\n",
    "\n",
    "\n",
    "You also used transfer learning to create a Convolutional Neural Network that uses MobileNet to classify images of Dogs and Cats. You were able to see that transfer learning greatly improves the accuracy achieved in the Dogs and Cats dataset. As an exercise, you were able to apply everything you learned in this lesson to create your own CNN using MobileNet to classify images of flowers.\n"
   ]
  },
  {
   "cell_type": "markdown",
   "metadata": {},
   "source": [
    "![](https://lh3.googleusercontent.com/-IQbVgolZd1k/XeeRQidz2sI/AAAAAAAAk2w/0PTC0YyoBpw9C50J91veRUA4C75GmMYGwCK8BGAsYHg/s0/2019-12-04.png)"
   ]
  }
 ],
 "metadata": {
  "kernelspec": {
   "display_name": "Python 3",
   "language": "python",
   "name": "python3"
  },
  "language_info": {
   "codemirror_mode": {
    "name": "ipython",
    "version": 3
   },
   "file_extension": ".py",
   "mimetype": "text/x-python",
   "name": "python",
   "nbconvert_exporter": "python",
   "pygments_lexer": "ipython3",
   "version": "3.6.8"
  }
 },
 "nbformat": 4,
 "nbformat_minor": 4
}
